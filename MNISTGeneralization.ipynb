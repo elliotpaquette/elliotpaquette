{
  "nbformat": 4,
  "nbformat_minor": 0,
  "metadata": {
    "colab": {
      "name": "MNISTGeneralization.ipynb",
      "provenance": [],
      "collapsed_sections": [],
      "include_colab_link": true
    },
    "kernelspec": {
      "name": "python3",
      "display_name": "Python 3"
    },
    "language_info": {
      "name": "python"
    }
  },
  "cells": [
    {
      "cell_type": "markdown",
      "metadata": {
        "id": "view-in-github",
        "colab_type": "text"
      },
      "source": [
        "<a href=\"https://colab.research.google.com/github/elliotpaquette/elliotpaquette/blob/master/MNISTGeneralization.ipynb\" target=\"_parent\"><img src=\"https://colab.research.google.com/assets/colab-badge.svg\" alt=\"Open In Colab\"/></a>"
      ]
    },
    {
      "cell_type": "markdown",
      "metadata": {
        "id": "A6c_qbLo46_-"
      },
      "source": [
        "**In this file**, we derive predictions for the training and testing of a random features regression for even/odd prediction in MNIST.\n"
      ]
    },
    {
      "cell_type": "code",
      "metadata": {
        "id": "X-bFj-sMZAo2"
      },
      "source": [
        "import numpy as np\n",
        "import scipy as sp\n",
        "from scipy.sparse import linalg as splinalg\n",
        "from scipy.signal import fftconvolve as fftconvolve\n",
        "from scipy.integrate import quad\n",
        "from scipy.integrate import solve_ivp\n",
        "\n",
        "import tensorflow as tf\n",
        "from sklearn.preprocessing import StandardScaler\n",
        "\n",
        "import matplotlib.pyplot as plt"
      ],
      "execution_count": null,
      "outputs": []
    },
    {
      "cell_type": "code",
      "metadata": {
        "id": "2LBzAs3KZRcX"
      },
      "source": [
        "def sgd_lsq_ridge( A, b, t_max, ridge=0.0, \n",
        "             initial_state = [], loss=lambda x: (1/2)*np.sum( (A@x-b)**2), \n",
        "             gamma=-1, oversample=1, m=1.0):\n",
        "  \"\"\"Runs the sDANA algorithm to solve the least squares problem Ax=b.\n",
        "  The special case of gamma_1 =0 recovers SGD.\n",
        "\n",
        "  Parameters\n",
        "  ----------\n",
        "  A : matrix\n",
        "      The data matrix (2d-array) of some shape (n,d)\n",
        "  b : vector\n",
        "      The target vector\n",
        "  t_max : float\n",
        "      The number of epochs (algorithm will run t_max * n steps)\n",
        "  ridge : float, optional\n",
        "      The strength of the ridge regularization\n",
        "  initial_state : vector, optional\n",
        "      The initial state vector of the algorithm.  Defaults to \n",
        "      iid Gaussian of expected norm-squared d/(2*n).\n",
        "  loss : vector-input function, optional\n",
        "      The loss to compute at each epoch.  Defaults to the empirical loss.\n",
        "  gamma: float, optional\n",
        "      (Additional gradient) stepsize parameter, defaults to n/||A||**2, with\n",
        "      Frobenius norm ||A||. Pass 'adaptive' for adaptive scheme.\n",
        "  ridge: float, optional\n",
        "      The ridge parameter to pass.\n",
        "  oversample: int, optional\n",
        "      return additional losses, by a multiple of oversample \n",
        "      (note integer division is performed, so every n//oversample is returned)\n",
        "  m: float, optional\n",
        "      The adaptive step parameter.\n",
        "  \n",
        "\n",
        "  Returns\n",
        "  -------\n",
        "  t_grid: numpy.array(float)\n",
        "      the best fit vector x\n",
        "  losses : numpy.array(float)\n",
        "      an array of floats that are the losses of the least squares problem, one\n",
        "      per epoch\n",
        "  \"\"\"\n",
        "\n",
        "  n, d = A.shape\n",
        "  adaptivestep=False\n",
        "  TL = lambda x: (1/2)*np.sum( (A@x-b)**2)\n",
        "\n",
        "  if gamma==-1:\n",
        "    gamma = n/np.linalg.norm(A)**2\n",
        "  if gamma=='adaptive':\n",
        "    adaptivestep = True\n",
        "    gamma = n/np.linalg.norm(A)**2\n",
        "    Gamma=0\n",
        "    \n",
        "\n",
        "\n",
        "  steps = int(n * t_max)\n",
        "  \n",
        "  losses = []\n",
        "  gammas = []\n",
        "\n",
        "  if (len(initial_state)==0):\n",
        "    initial_state = np.random.randn(d)/ (np.sqrt(2*n))\n",
        "  x = initial_state  \n",
        "\n",
        "  tnaught = TL(x)\n",
        "\n",
        "  for t in range(steps):\n",
        "    i = np.random.randint(0,n, size =1)[0]\n",
        "    grad_i = A[i] * (A[i].dot(x) - b[i]) + (ridge / n) * x\n",
        "    if t % (n//oversample) == 0:\n",
        "      losses.append(loss(x))\n",
        "    if (adaptivestep) and (t % n == 0):\n",
        "      Gamma += gamma\n",
        "      tz = TL(x)\n",
        "# This adaptive stepsize is the other solution of the variational problem\n",
        "#      gamma = 1./(np.exp(Gamma * (m+ridge)*0.666)*np.power(tz/tnaught,0.333))\n",
        "      gamma = 2./(0.75 + np.sqrt(0.5625 + np.exp(2*Gamma * (ridge+m))*tz/tnaught))\n",
        "      gammas.append(gamma)\n",
        "    x = x - gamma * grad_i\n",
        "  if (adaptivestep):\n",
        "    return x, np.array(losses), np.array(gammas)\n",
        "  return x, np.array(losses)"
      ],
      "execution_count": null,
      "outputs": []
    },
    {
      "cell_type": "code",
      "metadata": {
        "id": "Q8k9u-3faxla"
      },
      "source": [
        "def picard_volterra(f, K, t_max, n_grid):\n",
        "  \"\"\"Runs Picard iteration to approximate a convolution Volterra equation\n",
        "  sol = f + K*sol, where * denotes convolution, \n",
        "  and where K is assumed to be positive.\n",
        "\n",
        "  Parameters\n",
        "  ----------\n",
        "  f : callable\n",
        "      Forcing function that takes as input a vector of times to be evaluated\n",
        "  K : callable\n",
        "      Convolution kernel that takes as input a vector of times to be evaluated\n",
        "  t_max : float\n",
        "      The number of epochs \n",
        "  n_grid : int\n",
        "      The number of grid points\n",
        "\n",
        "  Returns\n",
        "  -------\n",
        "  t_grid: numpy.array(float)\n",
        "      the time steps used, which will discretize (0,t_max) into n_grid points\n",
        "  sol: numpy.array(float)\n",
        "      the values of the solution to the convolution Volterra equation at the time steps\n",
        "  \"\"\"\n",
        "\n",
        "  t_grid = np.linspace(0, t_max, n_grid)\n",
        "  delta = t_max/n_grid\n",
        "  I = delta*K(t_grid)\n",
        "  F = f(t_grid)\n",
        "\n",
        "  for i in range(n_grid):\n",
        "    if I[i] > 0.001 and (i+1) < n_grid:\n",
        "      #if i% 10 == 0:\n",
        "      #  print(\"Using quadrature to refine kernel with t=\"+str(t_grid[i])+\" as kernel output=\"+str(I[i]))\n",
        "      I[i] = quad(K, t_grid[i], t_grid[i+1])[0]\n",
        "  \n",
        "  knorm = np.sum(I)\n",
        "  print( \"kernel norm computed as \"+str(knorm))\n",
        "\n",
        "  loops = int(np.ceil(np.log(0.0001)/np.log(knorm)))\n",
        "  print( \"will use \"+str(loops)+\" iterations\")\n",
        "\n",
        "  sol = np.zeros(n_grid)\n",
        "  for i in range(loops):\n",
        "    sol = F + fftconvolve(sol, I, mode=\"full\")[0:n_grid]\n",
        "  return t_grid, sol\n",
        "  "
      ],
      "execution_count": null,
      "outputs": []
    },
    {
      "cell_type": "code",
      "metadata": {
        "id": "v3iTqzs46rSV"
      },
      "source": [
        "from gc import is_tracked\n",
        "def empirical_volterra_sgd(eiglist, t_max, n_grid, initial_state, UTb, ridge = 0.0, gamma=-1):\n",
        "  \"\"\"Generates the Volterra model for SGD for a list of eigenvalues eiglist\n",
        "\n",
        "  Parameters\n",
        "  ----------\n",
        "  eiglist : vector\n",
        "      The eigenvalues of Gauss--Newton matrix of the least squares problem,\n",
        "      n is the number of eigenvalues (AA^T).\n",
        "  t_max : float\n",
        "      The number of epochs (algorithm will run t_max * n steps)\n",
        "  n_grid : int\n",
        "      The number of grid points\n",
        "  initial_state : vector\n",
        "      The initial state vector in the eigenbasis (V^T x_0)\n",
        "  UTb: vector\n",
        "      The target vector in the spectral basis, i.e. U^Tb where A=U*Sigma*V^T.\n",
        "  ridge : float, optional\n",
        "      The strength of the ridge regularization\n",
        "  gamma: float, optional\n",
        "      (learning rate) stepsize parameter, defaults to n/||A||**2, with\n",
        "      Frobenius norm ||A|| -- Frobenius squared of ||A|| is also the sum of \n",
        "      the eigenvalues\n",
        "\n",
        "  Returns\n",
        "  -------\n",
        "  t_grid: numpy.array(float)\n",
        "      the time steps used, which will discretize (0,t_max) into n_grid points\n",
        "  sol: numpy.array(float)\n",
        "      the values of the solution to the convolution Volterra equation at the time steps\n",
        "  \"\"\"\n",
        "  lmin = np.min(eiglist)\n",
        "  lmax = np.max(eiglist)\n",
        "  n_eig= len(eiglist)\n",
        "\n",
        "  if gamma==-1:\n",
        "    gamma = len(eiglist)/np.sum(eiglist)\n",
        "\n",
        "  def K(t):\n",
        "    def Ktwo(x,t):\n",
        "      return (gamma**2)*(x**2)*np.exp(-2*gamma*(x+ridge)*t)\n",
        "    ktally = 0\n",
        "    return np.sum(np.array([np.real(Ktwo(eig,t)) for eig in eiglist]),axis=0)/n_eig\n",
        "\n",
        "  def forcing(times):\n",
        "    tmin = min(times)\n",
        "    tmax = max(times)\n",
        "    ftally = np.zeros_like(times)\n",
        "    n = n_eig\n",
        "    d = len(initial_state)\n",
        "    for (utb,eig,ist) in zip(UTb,eiglist,initial_state):\n",
        "      ftally += 0.5*((ist**2)*eig)*np.exp(-2*gamma*(eig+ridge)*times)\n",
        "      ftally += 0.5*(utb*(eig/(eig+ridge)*(1- np.exp(-gamma*(eig+ridge)*times)) - 1))**2\n",
        "    if n > d:\n",
        "      ftally += (0.5*np.sum(UTb[-(n-d):]**2))\n",
        "    return ftally \n",
        "\n",
        "  t_grid, sol = picard_volterra(forcing,K,t_max,n_grid)\n",
        "\n",
        "  return t_grid, sol\n",
        "\n"
      ],
      "execution_count": null,
      "outputs": []
    },
    {
      "cell_type": "markdown",
      "source": [
        "Demonstrate the empirical losses of the Volterra equation with empirical eigenvalues vs sgd on random features data.\n",
        "\n",
        "Given Gaussian vectors X (''data'') ($n \\times n_0$ -- n samples of data dimension $n_0$, which are standardized), we multiply by a weight matrix W (''inner layer weights'') ($n_0 \\times d$ -- un-normalized).  Then $XW$ is $n \\times d$.  We apply an activation function $\\psi$ to each entry of $XW$.  We assume that $\\psi$ is also standarized, in that $\\mathbb{E}( \\psi(Z) ) =0$ and  $\\mathbb{E}( \\psi(Z)^2 ) = 1/d$ for $Z \\sim N(0,1).$\n",
        "\n",
        "Example (1):\n",
        "The linear case is $\\psi(x) = x/\\sqrt{d}$.\n",
        "\n",
        "Example (2):\n",
        "The ReLU case is $\\frac{(\\max\\{x,0\\} - (1/\\sqrt{2\\pi}))}{\\sqrt{d}\\sqrt{ 1/2 - 1/(2\\pi)}}$\n",
        "\n",
        "The ground truth is a linear model $x \\mapsto x^T\\beta$ for $x \\in \\mathbb{R}^{n_0}$ and $\\beta \\in \\mathbb{R}^{n_0}$.  We suppose that $\\beta$ are iid $N(0,1)$.  Then we draw a $b = X \\beta$.\n",
        "\n",
        "The first cell below generates the sample covariance matrix and the sample mean needed to to evaluate the test error.\n"
      ],
      "metadata": {
        "id": "4LD6RCw-CLjR"
      }
    },
    {
      "cell_type": "code",
      "source": [
        "def stdz_relu(M):\n",
        "  \"\"\"Generate a gaussian-mean-0, gaussian-variance-1 relu of a matrix\n",
        "  Parameters\n",
        "  ----------\n",
        "  M : vector\n",
        "      The data to be relued\n",
        "  \"\"\"    \n",
        "  return (np.maximum(M,0.0)-(1.0/np.sqrt(2*np.pi)))/np.sqrt(0.5 - 1.0/(2*np.pi))\n",
        "\n",
        "def ReLU_sigma_psi(W, samples=16000):\n",
        "  \"\"\"Generate the sample covariance matrix and the empirical mean (see eq (8))\n",
        "  ----------\n",
        "  W : matrix\n",
        "      The weight matrix \n",
        "  samples: integer or matrix\n",
        "      If integer, the number of Gaussian samples. Otherwise, a standardized matrix of data\n",
        "  \"\"\"    \n",
        "  (n_0, d) = W.shape\n",
        "  scov = np.zeros((d,d))\n",
        "  psihat = np.zeros((n_0,d))\n",
        "  \n",
        "  if type(samples) == np.ndarray:\n",
        "    Xi=samples\n",
        "    samples = Xi.shape[0]\n",
        "  else:\n",
        "    Xi = np.random.randn(samples,n_0)/np.sqrt(n_0)\n",
        "  Ai = stdz_relu(Xi@W)/np.sqrt(d)\n",
        "  scov = Ai.transpose()@Ai\n",
        "  psihat = Xi.transpose()@Ai\n",
        "\n",
        "  return scov/samples, psihat/samples"
      ],
      "metadata": {
        "id": "DmV2bdnkL_Jl"
      },
      "execution_count": null,
      "outputs": []
    },
    {
      "cell_type": "markdown",
      "metadata": {
        "id": "hOx9R8M5f3nn"
      },
      "source": [
        "The routine below simulates the generalization error."
      ]
    },
    {
      "cell_type": "code",
      "metadata": {
        "id": "NXBTkWINhUIR"
      },
      "source": [
        "def empirical_volterra_g_sgd(eiglist, t_max, n_grid, initial_state, UTb,\n",
        "                             S,h,c, \n",
        "                             ridge = 0.0, gamma=-1\n",
        "                             ):\n",
        "  \"\"\"Generates the generalization error in the Volterra model for SGD, with parameters\n",
        "  given in the spectral basis\n",
        "\n",
        "  Parameters\n",
        "  ----------\n",
        "  eiglist : vector\n",
        "      The eigenvalues of Gauss--Newton matrix of the least squares problem,\n",
        "      n is the number of eigenvalues (AA^T), in DECREASING ORDER.\n",
        "  t_max : float\n",
        "      The number of epochs (algorithm will run t_max * n steps)\n",
        "  n_grid : int\n",
        "      The number of grid points\n",
        "  initial_state : vector\n",
        "      The initial state vector in the eigenbasis (V^T x_0)\n",
        "  UTb: vector\n",
        "      The target vector in the spectral basis, i.e. U^Tb where A=U*Sigma*V^T.\n",
        "  S,h,c: matrix,vector,float\n",
        "      The S,h,c are the terms in the generalization functional, g, such that\n",
        "      g(V^T x_t) = 0.5*x_t^T V S V^T x_t + h^T V^T x_t + c (see eq (104))\n",
        "  ridge : float, optional\n",
        "      The strength of the ridge regularization\n",
        "  gamma: float, optional\n",
        "      (learning rate) stepsize parameter, defaults to n/||A||**2, with\n",
        "      Frobenius norm ||A|| -- Frobenius squared of ||A|| is also the sum of \n",
        "      the eigenvalues\n",
        "\n",
        "  Returns\n",
        "  -------\n",
        "  t_grid: numpy.array(float)\n",
        "      the time steps used, which will discretize (0,t_max) into n_grid points\n",
        "  sol: numpy.array(float)\n",
        "      the values of the generalization error at the time steps\n",
        "  \"\"\"\n",
        "  lmin = np.min(eiglist)\n",
        "  lmax = np.max(eiglist)\n",
        "  n = len(eiglist)\n",
        "  d = len(initial_state)\n",
        "\n",
        "  if gamma==-1:\n",
        "    gamma = n/np.sum(eiglist)\n",
        "\n",
        "  t_grid, f1 = empirical_volterra_sgd(eiglist,t_max,n_grid,initial_state,UTb,ridge,gamma)\n",
        "  \n",
        "  eiglist = np.pad(eiglist, (0,max(d-n,0)))\n",
        "  eiglist = eiglist[0:d]\n",
        "  UTb = np.pad(UTb, (0,max(d-n,0)))\n",
        "  UTb = UTb[0:d]\n",
        "\n",
        "  L = np.linalg.cholesky(S + 1E-06*np.identity(d))\n",
        "  EM = [np.exp(-gamma*(x+ridge)*t_grid) for x in eiglist]\n",
        "  SUTb = UTb * np.sqrt(eiglist) / (eiglist + ridge+1E-08)\n",
        "  EM1 = (np.ones((d,n_grid)) - EM)\n",
        "\n",
        "  # ||x_0 * EM(t) * L||^2\n",
        "  l1 = 0.5*np.sum(np.einsum('i,ij,ik', initial_state, EM, L)**2,axis=1)\n",
        "\n",
        "  # ||SUTb^T * EM1(t) * L||^2\n",
        "  l2 = 0.5*np.sum(np.einsum('i,ij,ik', SUTb, EM1, L)**2,axis=1)\n",
        "\n",
        "  # SUTb^T * EM1(t) * h\n",
        "  l3 = np.einsum('i,ij,i', SUTb, EM1, h)\n",
        "\n",
        "  #This is the convolution term, the final in (104).  We had a trapezoid rule correction.\n",
        "  igrand = np.sum([s*x*np.exp(-2*gamma*(x+ridge)*t_grid) for (s,x) in zip(np.diag(S),eiglist)],axis=0)\n",
        "  igrand = igrand * (gamma**2/n) * (t_max/(n_grid+1))\n",
        "  l4 = fftconvolve(igrand, f1, mode=\"full\")[0:n_grid] + (\n",
        "      -0.5*igrand[0]*f1\n",
        "      -0.5*igrand*f1[0]\n",
        "  )\n",
        "\n",
        "\n",
        "  gerror = l1+l2+l3+l4+c\n",
        "\n",
        "  return t_grid, gerror\n",
        "\n",
        "  #Implement the trapezoid rule to numerically integrate the diffG\n",
        "  #G = np.cumsum(diffG)*t_max/n_grid + (\n",
        "  #    -1*diffG/2*(t_max/n_grid) + \n",
        "  #    -1*diffG[0]/2*(t_max/n_grid) +\n",
        "  #    +np.sum(Rlist)/n_eig\n",
        "  #)\n"
      ],
      "execution_count": null,
      "outputs": []
    },
    {
      "cell_type": "markdown",
      "source": [
        "MNIST Experiments.\n",
        "\n",
        "Tested on n=1000,2000,4000,8000.\n",
        "\n",
        "Simple linear regression to predict even/odd"
      ],
      "metadata": {
        "id": "7OG01Ix-Vmid"
      }
    },
    {
      "cell_type": "code",
      "source": [
        "d = 28*28\n",
        "n = 16000\n",
        "n_grid = 1000\n",
        "\n",
        "(x_train, y_train), (x_test,y_test) = tf.keras.datasets.mnist.load_data()\n",
        "flat = x_train.reshape(60000,28*28)\n",
        "#flat = flat.reshape(60000,d)\n",
        "scaler = StandardScaler().fit(flat)\n",
        "rescaled_flat =scaler.transform(flat)\n",
        "\n",
        "\n",
        "A = rescaled_flat[0:n]\n",
        "b = (y_train[0:n] % 2 - 0.5)\n",
        "invnorms=sp.sparse.diags(1/np.linalg.norm(A,axis=1))\n",
        "A = invnorms@A\n",
        "b = invnorms@b\n",
        "\n",
        "#Anorm= np.linalg.norm(A)**2\n",
        "\n",
        "t_max = 10\n",
        "\n",
        "gamma=0.2\n",
        "ridge = 0.1\n",
        "os=10\n",
        "ist = np.ones(d)/np.sqrt(n)\n",
        "\n",
        "#( A, b, t_max, ridge=0.0, \n",
        "#             initial_state = [], loss=lambda x: (1/2)*np.sum( (A@x-b)**2), \n",
        "#             gamma=-1,oversample=1):\n",
        "# sgd_sol, sgd_train = sgd_lsq_ridge(A,b,t_max,ridge=ridge,initial_state=ist,gamma=gamma,oversample=4)\n",
        "sgd_sol, sgd_train, ss = sgd_lsq_ridge(A,b,t_max,ridge=ridge,initial_state=ist,gamma='adaptive',oversample=os)\n",
        "\n",
        "plt.yscale('log')\n",
        "plt.plot(np.linspace(0,t_max,t_max*os), sgd_train, label=\"MNIST SGD Training (adaptive-step)\")\n",
        "\n",
        "#eigs, U = np.linalg.eigh(A@A.transpose())\n",
        "U, s, Vh = np.linalg.svd(A, full_matrices=True)\n",
        "eigs = np.pad(s**2, (0,max(n-d,0)))\n",
        "\n",
        "UTb = U.transpose() @ b\n",
        "#UTb = np.pad(UTb,(0,max(n-d,0)))\n",
        "\n",
        "#eiglist, t_max, n_grid, R, UTb, ridge = 0.0, gamma=-1)\n",
        "t_grid, v_emp = empirical_volterra_sgd(eigs,t_max,n_grid,Vh@ist,UTb,ridge,gamma)\n",
        "plt.plot(t_grid, v_emp, label=\"Empirical Volterra (constant-step)\")\n",
        "plt.legend()"
      ],
      "metadata": {
        "colab": {
          "base_uri": "https://localhost:8080/",
          "height": 688
        },
        "id": "l1hzlRlhVpRy",
        "outputId": "6ca47e37-9bb5-44ec-8734-b2bd206c63bc"
      },
      "execution_count": null,
      "outputs": [
        {
          "output_type": "stream",
          "name": "stdout",
          "text": [
            "Downloading data from https://storage.googleapis.com/tensorflow/tf-keras-datasets/mnist.npz\n",
            "11493376/11490434 [==============================] - 0s 0us/step\n",
            "11501568/11490434 [==============================] - 0s 0us/step\n"
          ]
        },
        {
          "output_type": "error",
          "ename": "KeyboardInterrupt",
          "evalue": "ignored",
          "traceback": [
            "\u001b[0;31m---------------------------------------------------------------------------\u001b[0m",
            "\u001b[0;31mKeyboardInterrupt\u001b[0m                         Traceback (most recent call last)",
            "\u001b[0;32m<ipython-input-7-f71c88ab66fb>\u001b[0m in \u001b[0;36m<module>\u001b[0;34m()\u001b[0m\n\u001b[1;32m     42\u001b[0m \u001b[0;34m\u001b[0m\u001b[0m\n\u001b[1;32m     43\u001b[0m \u001b[0;31m#eiglist, t_max, n_grid, R, UTb, ridge = 0.0, gamma=-1)\u001b[0m\u001b[0;34m\u001b[0m\u001b[0;34m\u001b[0m\u001b[0;34m\u001b[0m\u001b[0m\n\u001b[0;32m---> 44\u001b[0;31m \u001b[0mt_grid\u001b[0m\u001b[0;34m,\u001b[0m \u001b[0mv_emp\u001b[0m \u001b[0;34m=\u001b[0m \u001b[0mempirical_volterra_sgd\u001b[0m\u001b[0;34m(\u001b[0m\u001b[0meigs\u001b[0m\u001b[0;34m,\u001b[0m\u001b[0mt_max\u001b[0m\u001b[0;34m,\u001b[0m\u001b[0mn_grid\u001b[0m\u001b[0;34m,\u001b[0m\u001b[0mVh\u001b[0m\u001b[0;34m@\u001b[0m\u001b[0mist\u001b[0m\u001b[0;34m,\u001b[0m\u001b[0mUTb\u001b[0m\u001b[0;34m,\u001b[0m\u001b[0mridge\u001b[0m\u001b[0;34m,\u001b[0m\u001b[0mgamma\u001b[0m\u001b[0;34m)\u001b[0m\u001b[0;34m\u001b[0m\u001b[0;34m\u001b[0m\u001b[0m\n\u001b[0m\u001b[1;32m     45\u001b[0m \u001b[0mplt\u001b[0m\u001b[0;34m.\u001b[0m\u001b[0mplot\u001b[0m\u001b[0;34m(\u001b[0m\u001b[0mt_grid\u001b[0m\u001b[0;34m,\u001b[0m \u001b[0mv_emp\u001b[0m\u001b[0;34m,\u001b[0m \u001b[0mlabel\u001b[0m\u001b[0;34m=\u001b[0m\u001b[0;34m\"Empirical Volterra (constant-step)\"\u001b[0m\u001b[0;34m)\u001b[0m\u001b[0;34m\u001b[0m\u001b[0;34m\u001b[0m\u001b[0m\n\u001b[1;32m     46\u001b[0m \u001b[0mplt\u001b[0m\u001b[0;34m.\u001b[0m\u001b[0mlegend\u001b[0m\u001b[0;34m(\u001b[0m\u001b[0;34m)\u001b[0m\u001b[0;34m\u001b[0m\u001b[0;34m\u001b[0m\u001b[0m\n",
            "\u001b[0;32m<ipython-input-4-c4433f225463>\u001b[0m in \u001b[0;36mempirical_volterra_sgd\u001b[0;34m(eiglist, t_max, n_grid, initial_state, UTb, ridge, gamma)\u001b[0m\n\u001b[1;32m     56\u001b[0m     \u001b[0;32mreturn\u001b[0m \u001b[0mftally\u001b[0m\u001b[0;34m\u001b[0m\u001b[0;34m\u001b[0m\u001b[0m\n\u001b[1;32m     57\u001b[0m \u001b[0;34m\u001b[0m\u001b[0m\n\u001b[0;32m---> 58\u001b[0;31m   \u001b[0mt_grid\u001b[0m\u001b[0;34m,\u001b[0m \u001b[0msol\u001b[0m \u001b[0;34m=\u001b[0m \u001b[0mpicard_volterra\u001b[0m\u001b[0;34m(\u001b[0m\u001b[0mforcing\u001b[0m\u001b[0;34m,\u001b[0m\u001b[0mK\u001b[0m\u001b[0;34m,\u001b[0m\u001b[0mt_max\u001b[0m\u001b[0;34m,\u001b[0m\u001b[0mn_grid\u001b[0m\u001b[0;34m)\u001b[0m\u001b[0;34m\u001b[0m\u001b[0;34m\u001b[0m\u001b[0m\n\u001b[0m\u001b[1;32m     59\u001b[0m \u001b[0;34m\u001b[0m\u001b[0m\n\u001b[1;32m     60\u001b[0m   \u001b[0;32mreturn\u001b[0m \u001b[0mt_grid\u001b[0m\u001b[0;34m,\u001b[0m \u001b[0msol\u001b[0m\u001b[0;34m\u001b[0m\u001b[0;34m\u001b[0m\u001b[0m\n",
            "\u001b[0;32m<ipython-input-3-68d89f7ecf1d>\u001b[0m in \u001b[0;36mpicard_volterra\u001b[0;34m(f, K, t_max, n_grid)\u001b[0m\n\u001b[1;32m     32\u001b[0m       \u001b[0;31m#if i% 10 == 0:\u001b[0m\u001b[0;34m\u001b[0m\u001b[0;34m\u001b[0m\u001b[0;34m\u001b[0m\u001b[0m\n\u001b[1;32m     33\u001b[0m       \u001b[0;31m#  print(\"Using quadrature to refine kernel with t=\"+str(t_grid[i])+\" as kernel output=\"+str(I[i]))\u001b[0m\u001b[0;34m\u001b[0m\u001b[0;34m\u001b[0m\u001b[0;34m\u001b[0m\u001b[0m\n\u001b[0;32m---> 34\u001b[0;31m       \u001b[0mI\u001b[0m\u001b[0;34m[\u001b[0m\u001b[0mi\u001b[0m\u001b[0;34m]\u001b[0m \u001b[0;34m=\u001b[0m \u001b[0mquad\u001b[0m\u001b[0;34m(\u001b[0m\u001b[0mK\u001b[0m\u001b[0;34m,\u001b[0m \u001b[0mt_grid\u001b[0m\u001b[0;34m[\u001b[0m\u001b[0mi\u001b[0m\u001b[0;34m]\u001b[0m\u001b[0;34m,\u001b[0m \u001b[0mt_grid\u001b[0m\u001b[0;34m[\u001b[0m\u001b[0mi\u001b[0m\u001b[0;34m+\u001b[0m\u001b[0;36m1\u001b[0m\u001b[0;34m]\u001b[0m\u001b[0;34m)\u001b[0m\u001b[0;34m[\u001b[0m\u001b[0;36m0\u001b[0m\u001b[0;34m]\u001b[0m\u001b[0;34m\u001b[0m\u001b[0;34m\u001b[0m\u001b[0m\n\u001b[0m\u001b[1;32m     35\u001b[0m \u001b[0;34m\u001b[0m\u001b[0m\n\u001b[1;32m     36\u001b[0m   \u001b[0mknorm\u001b[0m \u001b[0;34m=\u001b[0m \u001b[0mnp\u001b[0m\u001b[0;34m.\u001b[0m\u001b[0msum\u001b[0m\u001b[0;34m(\u001b[0m\u001b[0mI\u001b[0m\u001b[0;34m)\u001b[0m\u001b[0;34m\u001b[0m\u001b[0;34m\u001b[0m\u001b[0m\n",
            "\u001b[0;32m/usr/local/lib/python3.7/dist-packages/scipy/integrate/quadpack.py\u001b[0m in \u001b[0;36mquad\u001b[0;34m(func, a, b, args, full_output, epsabs, epsrel, limit, points, weight, wvar, wopts, maxp1, limlst)\u001b[0m\n\u001b[1;32m    340\u001b[0m     \u001b[0;32mif\u001b[0m \u001b[0mweight\u001b[0m \u001b[0;32mis\u001b[0m \u001b[0;32mNone\u001b[0m\u001b[0;34m:\u001b[0m\u001b[0;34m\u001b[0m\u001b[0;34m\u001b[0m\u001b[0m\n\u001b[1;32m    341\u001b[0m         retval = _quad(func, a, b, args, full_output, epsabs, epsrel, limit,\n\u001b[0;32m--> 342\u001b[0;31m                        points)\n\u001b[0m\u001b[1;32m    343\u001b[0m     \u001b[0;32melse\u001b[0m\u001b[0;34m:\u001b[0m\u001b[0;34m\u001b[0m\u001b[0;34m\u001b[0m\u001b[0m\n\u001b[1;32m    344\u001b[0m         \u001b[0;32mif\u001b[0m \u001b[0mpoints\u001b[0m \u001b[0;32mis\u001b[0m \u001b[0;32mnot\u001b[0m \u001b[0;32mNone\u001b[0m\u001b[0;34m:\u001b[0m\u001b[0;34m\u001b[0m\u001b[0;34m\u001b[0m\u001b[0m\n",
            "\u001b[0;32m/usr/local/lib/python3.7/dist-packages/scipy/integrate/quadpack.py\u001b[0m in \u001b[0;36m_quad\u001b[0;34m(func, a, b, args, full_output, epsabs, epsrel, limit, points)\u001b[0m\n\u001b[1;32m    451\u001b[0m     \u001b[0;32mif\u001b[0m \u001b[0mpoints\u001b[0m \u001b[0;32mis\u001b[0m \u001b[0;32mNone\u001b[0m\u001b[0;34m:\u001b[0m\u001b[0;34m\u001b[0m\u001b[0;34m\u001b[0m\u001b[0m\n\u001b[1;32m    452\u001b[0m         \u001b[0;32mif\u001b[0m \u001b[0minfbounds\u001b[0m \u001b[0;34m==\u001b[0m \u001b[0;36m0\u001b[0m\u001b[0;34m:\u001b[0m\u001b[0;34m\u001b[0m\u001b[0;34m\u001b[0m\u001b[0m\n\u001b[0;32m--> 453\u001b[0;31m             \u001b[0;32mreturn\u001b[0m \u001b[0m_quadpack\u001b[0m\u001b[0;34m.\u001b[0m\u001b[0m_qagse\u001b[0m\u001b[0;34m(\u001b[0m\u001b[0mfunc\u001b[0m\u001b[0;34m,\u001b[0m\u001b[0ma\u001b[0m\u001b[0;34m,\u001b[0m\u001b[0mb\u001b[0m\u001b[0;34m,\u001b[0m\u001b[0margs\u001b[0m\u001b[0;34m,\u001b[0m\u001b[0mfull_output\u001b[0m\u001b[0;34m,\u001b[0m\u001b[0mepsabs\u001b[0m\u001b[0;34m,\u001b[0m\u001b[0mepsrel\u001b[0m\u001b[0;34m,\u001b[0m\u001b[0mlimit\u001b[0m\u001b[0;34m)\u001b[0m\u001b[0;34m\u001b[0m\u001b[0;34m\u001b[0m\u001b[0m\n\u001b[0m\u001b[1;32m    454\u001b[0m         \u001b[0;32melse\u001b[0m\u001b[0;34m:\u001b[0m\u001b[0;34m\u001b[0m\u001b[0;34m\u001b[0m\u001b[0m\n\u001b[1;32m    455\u001b[0m             \u001b[0;32mreturn\u001b[0m \u001b[0m_quadpack\u001b[0m\u001b[0;34m.\u001b[0m\u001b[0m_qagie\u001b[0m\u001b[0;34m(\u001b[0m\u001b[0mfunc\u001b[0m\u001b[0;34m,\u001b[0m\u001b[0mbound\u001b[0m\u001b[0;34m,\u001b[0m\u001b[0minfbounds\u001b[0m\u001b[0;34m,\u001b[0m\u001b[0margs\u001b[0m\u001b[0;34m,\u001b[0m\u001b[0mfull_output\u001b[0m\u001b[0;34m,\u001b[0m\u001b[0mepsabs\u001b[0m\u001b[0;34m,\u001b[0m\u001b[0mepsrel\u001b[0m\u001b[0;34m,\u001b[0m\u001b[0mlimit\u001b[0m\u001b[0;34m)\u001b[0m\u001b[0;34m\u001b[0m\u001b[0;34m\u001b[0m\u001b[0m\n",
            "\u001b[0;32m<ipython-input-4-c4433f225463>\u001b[0m in \u001b[0;36mK\u001b[0;34m(t)\u001b[0m\n\u001b[1;32m     41\u001b[0m       \u001b[0;32mreturn\u001b[0m \u001b[0;34m(\u001b[0m\u001b[0mgamma\u001b[0m\u001b[0;34m**\u001b[0m\u001b[0;36m2\u001b[0m\u001b[0;34m)\u001b[0m\u001b[0;34m*\u001b[0m\u001b[0;34m(\u001b[0m\u001b[0mx\u001b[0m\u001b[0;34m**\u001b[0m\u001b[0;36m2\u001b[0m\u001b[0;34m)\u001b[0m\u001b[0;34m*\u001b[0m\u001b[0mnp\u001b[0m\u001b[0;34m.\u001b[0m\u001b[0mexp\u001b[0m\u001b[0;34m(\u001b[0m\u001b[0;34m-\u001b[0m\u001b[0;36m2\u001b[0m\u001b[0;34m*\u001b[0m\u001b[0mgamma\u001b[0m\u001b[0;34m*\u001b[0m\u001b[0;34m(\u001b[0m\u001b[0mx\u001b[0m\u001b[0;34m+\u001b[0m\u001b[0mridge\u001b[0m\u001b[0;34m)\u001b[0m\u001b[0;34m*\u001b[0m\u001b[0mt\u001b[0m\u001b[0;34m)\u001b[0m\u001b[0;34m\u001b[0m\u001b[0;34m\u001b[0m\u001b[0m\n\u001b[1;32m     42\u001b[0m     \u001b[0mktally\u001b[0m \u001b[0;34m=\u001b[0m \u001b[0;36m0\u001b[0m\u001b[0;34m\u001b[0m\u001b[0;34m\u001b[0m\u001b[0m\n\u001b[0;32m---> 43\u001b[0;31m     \u001b[0;32mreturn\u001b[0m \u001b[0mnp\u001b[0m\u001b[0;34m.\u001b[0m\u001b[0msum\u001b[0m\u001b[0;34m(\u001b[0m\u001b[0mnp\u001b[0m\u001b[0;34m.\u001b[0m\u001b[0marray\u001b[0m\u001b[0;34m(\u001b[0m\u001b[0;34m[\u001b[0m\u001b[0mnp\u001b[0m\u001b[0;34m.\u001b[0m\u001b[0mreal\u001b[0m\u001b[0;34m(\u001b[0m\u001b[0mKtwo\u001b[0m\u001b[0;34m(\u001b[0m\u001b[0meig\u001b[0m\u001b[0;34m,\u001b[0m\u001b[0mt\u001b[0m\u001b[0;34m)\u001b[0m\u001b[0;34m)\u001b[0m \u001b[0;32mfor\u001b[0m \u001b[0meig\u001b[0m \u001b[0;32min\u001b[0m \u001b[0meiglist\u001b[0m\u001b[0;34m]\u001b[0m\u001b[0;34m)\u001b[0m\u001b[0;34m,\u001b[0m\u001b[0maxis\u001b[0m\u001b[0;34m=\u001b[0m\u001b[0;36m0\u001b[0m\u001b[0;34m)\u001b[0m\u001b[0;34m/\u001b[0m\u001b[0mn_eig\u001b[0m\u001b[0;34m\u001b[0m\u001b[0;34m\u001b[0m\u001b[0m\n\u001b[0m\u001b[1;32m     44\u001b[0m \u001b[0;34m\u001b[0m\u001b[0m\n\u001b[1;32m     45\u001b[0m   \u001b[0;32mdef\u001b[0m \u001b[0mforcing\u001b[0m\u001b[0;34m(\u001b[0m\u001b[0mtimes\u001b[0m\u001b[0;34m)\u001b[0m\u001b[0;34m:\u001b[0m\u001b[0;34m\u001b[0m\u001b[0;34m\u001b[0m\u001b[0m\n",
            "\u001b[0;32m<ipython-input-4-c4433f225463>\u001b[0m in \u001b[0;36m<listcomp>\u001b[0;34m(.0)\u001b[0m\n\u001b[1;32m     41\u001b[0m       \u001b[0;32mreturn\u001b[0m \u001b[0;34m(\u001b[0m\u001b[0mgamma\u001b[0m\u001b[0;34m**\u001b[0m\u001b[0;36m2\u001b[0m\u001b[0;34m)\u001b[0m\u001b[0;34m*\u001b[0m\u001b[0;34m(\u001b[0m\u001b[0mx\u001b[0m\u001b[0;34m**\u001b[0m\u001b[0;36m2\u001b[0m\u001b[0;34m)\u001b[0m\u001b[0;34m*\u001b[0m\u001b[0mnp\u001b[0m\u001b[0;34m.\u001b[0m\u001b[0mexp\u001b[0m\u001b[0;34m(\u001b[0m\u001b[0;34m-\u001b[0m\u001b[0;36m2\u001b[0m\u001b[0;34m*\u001b[0m\u001b[0mgamma\u001b[0m\u001b[0;34m*\u001b[0m\u001b[0;34m(\u001b[0m\u001b[0mx\u001b[0m\u001b[0;34m+\u001b[0m\u001b[0mridge\u001b[0m\u001b[0;34m)\u001b[0m\u001b[0;34m*\u001b[0m\u001b[0mt\u001b[0m\u001b[0;34m)\u001b[0m\u001b[0;34m\u001b[0m\u001b[0;34m\u001b[0m\u001b[0m\n\u001b[1;32m     42\u001b[0m     \u001b[0mktally\u001b[0m \u001b[0;34m=\u001b[0m \u001b[0;36m0\u001b[0m\u001b[0;34m\u001b[0m\u001b[0;34m\u001b[0m\u001b[0m\n\u001b[0;32m---> 43\u001b[0;31m     \u001b[0;32mreturn\u001b[0m \u001b[0mnp\u001b[0m\u001b[0;34m.\u001b[0m\u001b[0msum\u001b[0m\u001b[0;34m(\u001b[0m\u001b[0mnp\u001b[0m\u001b[0;34m.\u001b[0m\u001b[0marray\u001b[0m\u001b[0;34m(\u001b[0m\u001b[0;34m[\u001b[0m\u001b[0mnp\u001b[0m\u001b[0;34m.\u001b[0m\u001b[0mreal\u001b[0m\u001b[0;34m(\u001b[0m\u001b[0mKtwo\u001b[0m\u001b[0;34m(\u001b[0m\u001b[0meig\u001b[0m\u001b[0;34m,\u001b[0m\u001b[0mt\u001b[0m\u001b[0;34m)\u001b[0m\u001b[0;34m)\u001b[0m \u001b[0;32mfor\u001b[0m \u001b[0meig\u001b[0m \u001b[0;32min\u001b[0m \u001b[0meiglist\u001b[0m\u001b[0;34m]\u001b[0m\u001b[0;34m)\u001b[0m\u001b[0;34m,\u001b[0m\u001b[0maxis\u001b[0m\u001b[0;34m=\u001b[0m\u001b[0;36m0\u001b[0m\u001b[0;34m)\u001b[0m\u001b[0;34m/\u001b[0m\u001b[0mn_eig\u001b[0m\u001b[0;34m\u001b[0m\u001b[0;34m\u001b[0m\u001b[0m\n\u001b[0m\u001b[1;32m     44\u001b[0m \u001b[0;34m\u001b[0m\u001b[0m\n\u001b[1;32m     45\u001b[0m   \u001b[0;32mdef\u001b[0m \u001b[0mforcing\u001b[0m\u001b[0;34m(\u001b[0m\u001b[0mtimes\u001b[0m\u001b[0;34m)\u001b[0m\u001b[0;34m:\u001b[0m\u001b[0;34m\u001b[0m\u001b[0;34m\u001b[0m\u001b[0m\n",
            "\u001b[0;31mKeyboardInterrupt\u001b[0m: "
          ]
        },
        {
          "output_type": "display_data",
          "data": {
            "text/plain": [
              "<Figure size 432x288 with 1 Axes>"
            ],
            "image/png": "[encoded data removed]"
          },
          "metadata": {
            "needs_background": "light"
          }
        }
      ]
    },
    {
      "cell_type": "code",
      "source": [
        "flat_test = x_test.reshape(10000,28*28)\n",
        "flat_test =scaler.transform(flat_test)\n",
        "\n",
        "prediction = (flat_test @ sgd_sol)\n",
        "bool_pre = prediction > 0\n",
        "actual = (y_test[0:10000] % 2) > 0\n",
        "\n",
        "print(\"Correctly predicted \" + str(np.sum((bool_pre == actual)/10000)))"
      ],
      "metadata": {
        "colab": {
          "base_uri": "https://localhost:8080/"
        },
        "id": "1T17Yr84ZpJs",
        "outputId": "5b630efc-ba30-447e-8231-25645f2ce443"
      },
      "execution_count": null,
      "outputs": [
        {
          "output_type": "stream",
          "name": "stdout",
          "text": [
            "Correctly predicted 0.8823000000000003\n"
          ]
        }
      ]
    },
    {
      "cell_type": "markdown",
      "source": [
        "MNIST random features regression for even/odd."
      ],
      "metadata": {
        "id": "k4-6ptcjZYHK"
      }
    },
    {
      "cell_type": "code",
      "source": [
        "n0 = 28*28\n",
        "d= 2000 #number of random features\n",
        "n = 16000 #datapoints to keep\n",
        "t_max = 20\n",
        "gamma_list = [0.1,0.2,0.4,0.8]\n",
        "ridge = 0.01\n",
        "os=10 #show os datapoints per epoch\n",
        "\n",
        "(x_train, y_train), (x_test,y_test) = tf.keras.datasets.mnist.load_data()\n",
        "flat = x_train.reshape(60000,28*28)\n",
        "scaler = StandardScaler().fit(flat)\n",
        "rescaled_flat =scaler.transform(flat)\n",
        "\n",
        "b = (y_train[0:n] % 2 - 0.5)/np.sqrt(n)\n",
        "\n",
        "X = rescaled_flat[0:n]\n",
        "invnorms=sp.sparse.diags(1/np.linalg.norm(X,axis=1))\n",
        "X = invnorms@X\n",
        "W = np.random.randn(n0,d)\n",
        "\n",
        "#Data\n",
        "A = stdz_relu(X@W)/np.sqrt(d)\n",
        "\n",
        "#initialization\n",
        "ist = np.ones(d)/np.sqrt(n)\n",
        "\n",
        "U, s, Vh = np.linalg.svd(A, full_matrices=False)\n",
        "eigs = np.pad(s**2, (0,max(n-d,0)))\n",
        "\n",
        "UTb = U.transpose() @ b\n",
        "knorm = np.sqrt(np.linalg.norm(b)**2 -  np.linalg.norm(UTb)**2)\n",
        "if n > d: \n",
        "  UTb = np.pad(UTb,(0,n-d), mode='constant', constant_values=(0,knorm/(np.sqrt(n-d))) )\n",
        "\n",
        "\n",
        "fig = plt.figure(figsize=(6, 6))\n",
        "plt.yscale('log')\n",
        "plt.xscale('log')\n",
        "colors = iter(plt.cm.plasma(np.linspace(0, 0.9, 2*len(gamma_list))))\n",
        "\n",
        "for gamma in gamma_list:\n",
        "  sgd_sol, sgd_train_cs = sgd_lsq_ridge(A,b,t_max,ridge=ridge,initial_state=ist,gamma=gamma,oversample=os)\n",
        "  plt.plot(np.linspace(0,t_max,t_max*os), sgd_train_cs, label=\"SGD (c-s) \"+str(gamma),\n",
        "           c=next(colors))\n",
        "  t_grid, v_emp = empirical_volterra_sgd(eigs,t_max,n_grid,Vh@ist,UTb,ridge,gamma)\n",
        "  plt.plot(t_grid, v_emp, label=\"EV (c-s)\",c=next(colors))\n",
        "\n",
        "\n",
        "sgd_sol, sgd_train_as, ss = sgd_lsq_ridge(A,b,t_max,ridge=ridge,\n",
        "                                          initial_state=ist,gamma='adaptive',oversample=os,m=0.4)\n",
        "plt.plot(np.linspace(0,t_max,t_max*os), sgd_train_as, label=\"SGD (a-s)\",c='green')\n",
        "\n",
        "plt.xlim([0.1,t_max])\n",
        "plt.legend()"
      ],
      "metadata": {
        "colab": {
          "base_uri": "https://localhost:8080/",
          "height": 534
        },
        "outputId": "a2f9678f-95e1-454a-98a8-9f2f06af67e8",
        "id": "pHjsguD5ZWve"
      },
      "execution_count": null,
      "outputs": [
        {
          "output_type": "stream",
          "name": "stdout",
          "text": [
            "kernel norm computed as 0.050277816367421894\n",
            "will use 4 iterations\n",
            "kernel norm computed as 0.10038935486841022\n",
            "will use 5 iterations\n",
            "kernel norm computed as 0.2004218584266284\n",
            "will use 6 iterations\n",
            "kernel norm computed as 0.4003700297842158\n",
            "will use 11 iterations\n"
          ]
        },
        {
          "output_type": "execute_result",
          "data": {
            "text/plain": [
              "<matplotlib.legend.Legend at 0x7f7a3c62bc10>"
            ]
          },
          "metadata": {},
          "execution_count": 127
        },
        {
          "output_type": "display_data",
          "data": {
            "image/png": "[encoded data removed]",
            "text/plain": [
              "<Figure size 432x432 with 1 Axes>"
            ]
          },
          "metadata": {
            "needs_background": "light"
          }
        }
      ]
    },
    {
      "cell_type": "markdown",
      "source": [
        "MNIST Validation Test error"
      ],
      "metadata": {
        "id": "qzyoN1Ur4JH4"
      }
    },
    {
      "cell_type": "code",
      "source": [
        "n0 = 28*28\n",
        "d= 2000 #number of random features\n",
        "n = 16000 #datapoints to keep\n",
        "t_max = 80\n",
        "gamma_list = [0.8,0.4,0.2,0.1]\n",
        "ridge = 0.01\n",
        "os=100 #show os datapoints per epoch\n",
        "\n",
        "(x_train, y_train), (x_test,y_test) = tf.keras.datasets.mnist.load_data()\n",
        "flat = x_train.reshape(60000,28*28)\n",
        "scaler = StandardScaler().fit(flat)\n",
        "rescaled_flat =scaler.transform(flat)\n",
        "b = (y_train[0:n] % 2 - 0.5)/np.sqrt(n)\n",
        "\n",
        "\n",
        "\n",
        "X = rescaled_flat[0:n]\n",
        "invnorms=sp.sparse.diags(1/np.linalg.norm(X,axis=1))\n",
        "X = invnorms@X\n",
        "W = np.random.randn(n0,d)\n",
        "\n",
        "flat_test = x_test.reshape(10000,28*28)\n",
        "flat_test =scaler.transform(flat_test)\n",
        "actual = (y_test[0:10000] % 2) > 0\n",
        "TA = (stdz_relu(flat_test@W)/np.sqrt(d))\n",
        "testloss=lambda x: (np.sum(((TA@ x) > 0) == actual)/100)\n",
        "\n",
        "#Data\n",
        "A = stdz_relu(X@W)/np.sqrt(d)\n",
        "\n",
        "#initialization\n",
        "ist = np.ones(d)/np.sqrt(n)\n",
        "\n",
        "U, s, Vh = np.linalg.svd(A, full_matrices=False)\n",
        "eigs = np.pad(s**2, (0,max(n-d,0)))\n",
        "\n",
        "UTb = U.transpose() @ b\n",
        "knorm = np.sqrt(np.linalg.norm(b)**2 -  np.linalg.norm(UTb)**2)\n",
        "if n > d: \n",
        "  UTb = np.pad(UTb,(0,n-d), mode='constant', constant_values=(0,knorm/(np.sqrt(n-d))) )\n",
        "\n",
        "\n",
        "testfig = plt.figure(figsize=(6, 6))\n",
        "plt.xscale('log')\n",
        "colors = iter(plt.cm.plasma(np.linspace(0.9, 0.1, len(gamma_list))))\n",
        "\n",
        "for gamma in gamma_list:\n",
        "  sgd_sol, sgd_test_cs = sgd_lsq_ridge(A,b,t_max,ridge=ridge,\n",
        "                                        loss = testloss,\n",
        "                                        initial_state=ist,gamma=gamma,oversample=os)\n",
        "  plt.plot(np.linspace(0,t_max,t_max*os), sgd_test_cs, label=\"SGD (c-s) \"+str(gamma),\n",
        "           c=next(colors))\n",
        "  #t_grid, v_emp = empirical_volterra_sgd(eigs,t_max,n_grid,Vh@ist,UTb,ridge,gamma)\n",
        "  #plt.plot(t_grid, v_emp, label=\"EV (c-s)\",c=next(colors))\n",
        "\n",
        "\n",
        "sgd_sol, sgd_test_as, ss = sgd_lsq_ridge(A,b,t_max,ridge=ridge,\n",
        "                                          loss=testloss,\n",
        "                                          initial_state=ist,gamma='adaptive',oversample=os,m=0.4)\n",
        "plt.plot(np.linspace(0,t_max,t_max*os), sgd_test_as, label=\"SGD (a-s)\",c='green')\n",
        "\n",
        "plt.xlim([0.1,t_max])\n",
        "plt.legend()"
      ],
      "metadata": {
        "colab": {
          "base_uri": "https://localhost:8080/",
          "height": 395
        },
        "id": "G1oy_zWo4Lql",
        "outputId": "4245c615-b349-455f-a8ec-2668ec6b8917"
      },
      "execution_count": null,
      "outputs": [
        {
          "output_type": "execute_result",
          "data": {
            "text/plain": [
              "<matplotlib.legend.Legend at 0x7f38409b6a90>"
            ]
          },
          "metadata": {},
          "execution_count": 9
        },
        {
          "output_type": "display_data",
          "data": {
            "image/png": "[encoded data removed]",
            "text/plain": [
              "<Figure size 432x432 with 1 Axes>"
            ]
          },
          "metadata": {
            "needs_background": "light"
          }
        }
      ]
    },
    {
      "cell_type": "code",
      "source": [
        "max(sgd_test_as)"
      ],
      "metadata": {
        "colab": {
          "base_uri": "https://localhost:8080/"
        },
        "id": "cJXqWqRm0lGQ",
        "outputId": "3ae1d313-6543-4b41-911c-28dba51c1123"
      },
      "execution_count": null,
      "outputs": [
        {
          "output_type": "execute_result",
          "data": {
            "text/plain": [
              "96.08"
            ]
          },
          "metadata": {},
          "execution_count": 8
        }
      ]
    },
    {
      "cell_type": "markdown",
      "source": [
        "MNIST L2 test error, with Volterra comparison"
      ],
      "metadata": {
        "id": "4hbSTbwGH4m8"
      }
    },
    {
      "cell_type": "code",
      "source": [
        "n0 = 28*28\n",
        "d= 2000 #number of random features\n",
        "n = 16000 #datapoints to keep\n",
        "t_max = 20\n",
        "n_grid=1000\n",
        "gamma_list = [0.1,0.2,0.4,0.8]\n",
        "ridge = 0.01\n",
        "os=10 #show os datapoints per epoch\n",
        "\n",
        "(x_train, y_train), (x_test,y_test) = tf.keras.datasets.mnist.load_data()\n",
        "flat = x_train.reshape(60000,28*28)\n",
        "scaler = StandardScaler().fit(flat)\n",
        "rescaled_flat =scaler.transform(flat)\n",
        "\n",
        "b = (y_train[0:n] % 2 - 0.5)/np.sqrt(n)\n",
        "\n",
        "X = rescaled_flat[0:n]\n",
        "invnorms=sp.sparse.diags(1/np.linalg.norm(X,axis=1))\n",
        "X = invnorms@X\n",
        "W = np.random.randn(n0,d)\n",
        "\n",
        "#Data\n",
        "A = stdz_relu(X@W)/np.sqrt(d)\n",
        "\n",
        "#initialization\n",
        "ist = np.ones(d)/np.sqrt(n)\n",
        "\n",
        "#Compute eigendecomposition of target\n",
        "U, s, Vh = np.linalg.svd(A, full_matrices=False)\n",
        "eigs = np.pad(s**2, (0,max(n-d,0)))\n",
        "eigs = eigs[0:n]\n",
        "\n",
        "UTb = U.transpose() @ b\n",
        "knorm = np.sqrt(np.linalg.norm(b)**2 -  np.linalg.norm(UTb)**2)\n",
        "if n > d: \n",
        "  UTb = np.pad(UTb,(0,n-d), mode='constant', constant_values=(0,knorm/(np.sqrt(n-d))) )\n",
        "\n",
        "#initialize figure\n",
        "test2fig = plt.figure(figsize=(6, 6))\n",
        "plt.xscale('log')\n",
        "plt.yscale('log')\n",
        "colors = iter(plt.cm.plasma(np.linspace(0, 0.9, 2*len(gamma_list))))\n",
        "\n",
        "\n",
        "#Compute test loss parameters\n",
        "flat_test = x_test.reshape(10000,28*28)\n",
        "flat_test =scaler.transform(flat_test)\n",
        "actual = ((y_test[0:10000] % 2) - 0.5)/np.sqrt(10000)\n",
        "TA = (stdz_relu(flat_test@W)/np.sqrt(d)/np.sqrt(10000))\n",
        "SigmaPsi = TA.transpose() @ TA \n",
        "u=actual.transpose()@TA\n",
        "c=0.5*np.sum(actual**2)\n",
        "test2loss= lambda x: (1/2)*(x.transpose()@SigmaPsi@x)+c-u@x\n",
        "\n",
        "#These are used for the volterra computation\n",
        "S = Vh@SigmaPsi@Vh.transpose()\n",
        "h = -Vh@u.transpose()\n",
        "\n",
        "for gamma in gamma_list:\n",
        "  sgd_test2_cs = sgd_lsq_ridge(A,b,t_max,ridge=ridge,initial_state=ist,\n",
        "                          loss=test2loss,\n",
        "                          gamma=gamma,\n",
        "                          oversample=os)[1]\n",
        "  plt.plot(np.linspace(0,t_max,t_max*os), sgd_test2_cs, label=\"SGD (c-s) \"+str(gamma),\n",
        "           c=next(colors))\n",
        "  #Second way of getting the training loss, using the empirical_volterra_g_sgd\n",
        "  t_grid, v_emp = empirical_volterra_g_sgd(eigs,t_max,n_grid,\n",
        "                                           Vh@ist,UTb,S,h,c,ridge,\n",
        "                                           gamma=gamma)\n",
        "  plt.plot(t_grid, v_emp, label=\"Volterra (c-s) \"+str(gamma),\n",
        "           c=next(colors))\n",
        "\n",
        "sgd_sol, sgd_test_as, ss = sgd_lsq_ridge(A,b,t_max,ridge=ridge,\n",
        "                                          loss=test2loss,\n",
        "                                          initial_state=ist,gamma='adaptive',oversample=os,m=0.4)\n",
        "plt.plot(np.linspace(0,t_max,t_max*os), sgd_test_as, label=\"SGD (a-s)\",c='green')\n",
        "\n",
        "plt.xlim([0.1,t_max])\n",
        "plt.legend()"
      ],
      "metadata": {
        "colab": {
          "base_uri": "https://localhost:8080/",
          "height": 538
        },
        "id": "SitUrQ_XH7cC",
        "outputId": "852ada9c-0700-4048-96ee-894835516a37"
      },
      "execution_count": null,
      "outputs": [
        {
          "output_type": "stream",
          "name": "stdout",
          "text": [
            "kernel norm computed as 0.05036660432733887\n",
            "will use 4 iterations\n",
            "kernel norm computed as 0.10056772540241225\n",
            "will use 5 iterations\n",
            "kernel norm computed as 0.20077989530173163\n",
            "will use 6 iterations\n",
            "kernel norm computed as 0.40108352609113124\n",
            "will use 11 iterations\n"
          ]
        },
        {
          "output_type": "execute_result",
          "data": {
            "text/plain": [
              "<matplotlib.legend.Legend at 0x7fc94bef9c50>"
            ]
          },
          "metadata": {},
          "execution_count": 10
        },
        {
          "output_type": "display_data",
          "data": {
            "image/png": "[encoded data removed]",
            "text/plain": [
              "<Figure size 432x432 with 1 Axes>"
            ]
          },
          "metadata": {
            "needs_background": "light"
          }
        }
      ]
    },
    {
      "cell_type": "code",
      "source": [
        "from google.colab import files\n",
        "fig.savefig('MNIST_RF_SGD_Train_dXn_2kX16k_t20.pdf')\n",
        "testfig.savefig('MNIST_RF_SGD_Validation_dXn_2kX16k_t20.pdf')\n",
        "test2fig.savefig('MNIST_RF_SGD_L2Train_dXn_2kX16k_t20.pdf')\n",
        "files.download('MNIST_RF_SGD_Train_dXn_2kX16k_t20.pdf')\n",
        "files.download('MNIST_RF_SGD_Validation_dXn_2kX16k_t20.pdf')\n",
        "files.download('MNIST_RF_SGD_L2Train_dXn_2kX16k_t20.pdf')"
      ],
      "metadata": {
        "colab": {
          "base_uri": "https://localhost:8080/",
          "height": 17
        },
        "outputId": "73a7d031-73cf-468e-bbf3-74144b7aea48",
        "id": "BZXqfCEFZXcc"
      },
      "execution_count": null,
      "outputs": [
        {
          "output_type": "display_data",
          "data": {
            "application/javascript": [
              "\n",
              "    async function download(id, filename, size) {\n",
              "      if (!google.colab.kernel.accessAllowed) {\n",
              "        return;\n",
              "      }\n",
              "      const div = document.createElement('div');\n",
              "      const label = document.createElement('label');\n",
              "      label.textContent = `Downloading \"${filename}\": `;\n",
              "      div.appendChild(label);\n",
              "      const progress = document.createElement('progress');\n",
              "      progress.max = size;\n",
              "      div.appendChild(progress);\n",
              "      document.body.appendChild(div);\n",
              "\n",
              "      const buffers = [];\n",
              "      let downloaded = 0;\n",
              "\n",
              "      const channel = await google.colab.kernel.comms.open(id);\n",
              "      // Send a message to notify the kernel that we're ready.\n",
              "      channel.send({})\n",
              "\n",
              "      for await (const message of channel.messages) {\n",
              "        // Send a message to notify the kernel that we're ready.\n",
              "        channel.send({})\n",
              "        if (message.buffers) {\n",
              "          for (const buffer of message.buffers) {\n",
              "            buffers.push(buffer);\n",
              "            downloaded += buffer.byteLength;\n",
              "            progress.value = downloaded;\n",
              "          }\n",
              "        }\n",
              "      }\n",
              "      const blob = new Blob(buffers, {type: 'application/binary'});\n",
              "      const a = document.createElement('a');\n",
              "      a.href = window.URL.createObjectURL(blob);\n",
              "      a.download = filename;\n",
              "      div.appendChild(a);\n",
              "      a.click();\n",
              "      div.remove();\n",
              "    }\n",
              "  "
            ],
            "text/plain": [
              "<IPython.core.display.Javascript object>"
            ]
          },
          "metadata": {}
        },
        {
          "output_type": "display_data",
          "data": {
            "application/javascript": [
              "download(\"download_8f16516a-26ae-4cbd-baae-4d7276623e1a\", \"MNIST_RF_SGD_Train_dXn_2kX16k_t20.pdf\", 19517)"
            ],
            "text/plain": [
              "<IPython.core.display.Javascript object>"
            ]
          },
          "metadata": {}
        },
        {
          "output_type": "display_data",
          "data": {
            "application/javascript": [
              "\n",
              "    async function download(id, filename, size) {\n",
              "      if (!google.colab.kernel.accessAllowed) {\n",
              "        return;\n",
              "      }\n",
              "      const div = document.createElement('div');\n",
              "      const label = document.createElement('label');\n",
              "      label.textContent = `Downloading \"${filename}\": `;\n",
              "      div.appendChild(label);\n",
              "      const progress = document.createElement('progress');\n",
              "      progress.max = size;\n",
              "      div.appendChild(progress);\n",
              "      document.body.appendChild(div);\n",
              "\n",
              "      const buffers = [];\n",
              "      let downloaded = 0;\n",
              "\n",
              "      const channel = await google.colab.kernel.comms.open(id);\n",
              "      // Send a message to notify the kernel that we're ready.\n",
              "      channel.send({})\n",
              "\n",
              "      for await (const message of channel.messages) {\n",
              "        // Send a message to notify the kernel that we're ready.\n",
              "        channel.send({})\n",
              "        if (message.buffers) {\n",
              "          for (const buffer of message.buffers) {\n",
              "            buffers.push(buffer);\n",
              "            downloaded += buffer.byteLength;\n",
              "            progress.value = downloaded;\n",
              "          }\n",
              "        }\n",
              "      }\n",
              "      const blob = new Blob(buffers, {type: 'application/binary'});\n",
              "      const a = document.createElement('a');\n",
              "      a.href = window.URL.createObjectURL(blob);\n",
              "      a.download = filename;\n",
              "      div.appendChild(a);\n",
              "      a.click();\n",
              "      div.remove();\n",
              "    }\n",
              "  "
            ],
            "text/plain": [
              "<IPython.core.display.Javascript object>"
            ]
          },
          "metadata": {}
        },
        {
          "output_type": "display_data",
          "data": {
            "application/javascript": [
              "download(\"download_7f7b420d-7b15-410d-bed4-f228d73d5859\", \"MNIST_RF_SGD_Validation_dXn_2kX16k_t20.pdf\", 33781)"
            ],
            "text/plain": [
              "<IPython.core.display.Javascript object>"
            ]
          },
          "metadata": {}
        },
        {
          "output_type": "display_data",
          "data": {
            "application/javascript": [
              "\n",
              "    async function download(id, filename, size) {\n",
              "      if (!google.colab.kernel.accessAllowed) {\n",
              "        return;\n",
              "      }\n",
              "      const div = document.createElement('div');\n",
              "      const label = document.createElement('label');\n",
              "      label.textContent = `Downloading \"${filename}\": `;\n",
              "      div.appendChild(label);\n",
              "      const progress = document.createElement('progress');\n",
              "      progress.max = size;\n",
              "      div.appendChild(progress);\n",
              "      document.body.appendChild(div);\n",
              "\n",
              "      const buffers = [];\n",
              "      let downloaded = 0;\n",
              "\n",
              "      const channel = await google.colab.kernel.comms.open(id);\n",
              "      // Send a message to notify the kernel that we're ready.\n",
              "      channel.send({})\n",
              "\n",
              "      for await (const message of channel.messages) {\n",
              "        // Send a message to notify the kernel that we're ready.\n",
              "        channel.send({})\n",
              "        if (message.buffers) {\n",
              "          for (const buffer of message.buffers) {\n",
              "            buffers.push(buffer);\n",
              "            downloaded += buffer.byteLength;\n",
              "            progress.value = downloaded;\n",
              "          }\n",
              "        }\n",
              "      }\n",
              "      const blob = new Blob(buffers, {type: 'application/binary'});\n",
              "      const a = document.createElement('a');\n",
              "      a.href = window.URL.createObjectURL(blob);\n",
              "      a.download = filename;\n",
              "      div.appendChild(a);\n",
              "      a.click();\n",
              "      div.remove();\n",
              "    }\n",
              "  "
            ],
            "text/plain": [
              "<IPython.core.display.Javascript object>"
            ]
          },
          "metadata": {}
        },
        {
          "output_type": "display_data",
          "data": {
            "application/javascript": [
              "download(\"download_3171c7f2-a98b-4a6b-a742-c817ecc86e4d\", \"MNIST_RF_SGD_L2Train_dXn_2kX16k_t20.pdf\", 16388)"
            ],
            "text/plain": [
              "<IPython.core.display.Javascript object>"
            ]
          },
          "metadata": {}
        }
      ]
    },
    {
      "cell_type": "code",
      "source": [
        "n0 = 28*28\n",
        "d= 2000 #number of random features\n",
        "n = 4000 #datapoints to keep\n",
        "t_max = 20\n",
        "n_grid=1000\n",
        "gamma_list = [0.1,0.2,0.4,0.8]\n",
        "ridge = 0.01\n",
        "os=10 #show os datapoints per epoch\n",
        "\n",
        "(x_train, y_train), (x_test,y_test) = tf.keras.datasets.mnist.load_data()\n",
        "flat = x_train.reshape(60000,28*28)\n",
        "scaler = StandardScaler().fit(flat)\n",
        "rescaled_flat =scaler.transform(flat)\n",
        "\n",
        "b = (y_train[0:n] % 2 - 0.5)/np.sqrt(n)\n",
        "\n",
        "X = rescaled_flat[0:n]\n",
        "invnorms=sp.sparse.diags(1/np.linalg.norm(X,axis=1))\n",
        "X = invnorms@X\n",
        "W = np.random.randn(n0,d)\n",
        "\n",
        "#Data\n",
        "A = stdz_relu(X@W)/np.sqrt(d)\n",
        "\n",
        "#initialization\n",
        "ist = np.ones(d)/np.sqrt(n)\n",
        "\n",
        "#Compute eigendecomposition of target\n",
        "U, s, Vh = np.linalg.svd(A, full_matrices=False)\n",
        "eigs = np.pad(s**2, (0,max(n-d,0)))\n",
        "eigs = eigs[0:n]\n",
        "\n",
        "plt.hist(eigs[eigs>0.1],bins=100,density=True)\n",
        "#a = eigs[eigs < 2]\n",
        "#plt.plot(np.log(np.sort(a)), np.log(np.linspace(0, 1, len(a), endpoint=False)))\n"
      ],
      "metadata": {
        "id": "_XqbPkMpZwjP"
      },
      "execution_count": null,
      "outputs": []
    },
    {
      "cell_type": "code",
      "source": [
        "print(min(s**2))\n",
        "print(max(s**2))\n",
        "print(np.sum(s**2)/4000.)"
      ],
      "metadata": {
        "colab": {
          "base_uri": "https://localhost:8080/"
        },
        "id": "H6zFuKu7qCvp",
        "outputId": "669228de-6f95-460c-f824-63c50c0aea01"
      },
      "execution_count": null,
      "outputs": [
        {
          "output_type": "stream",
          "name": "stdout",
          "text": [
            "0.017536024372953835\n",
            "295.62384684348035\n",
            "1.0005804256469233\n"
          ]
        }
      ]
    }
  ]
}