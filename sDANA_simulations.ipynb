{
  "nbformat": 4,
  "nbformat_minor": 0,
  "metadata": {
    "colab": {
      "name": "dana_real_data.ipynb",
      "provenance": [],
      "collapsed_sections": [],
      "authorship_tag": "ABX9TyPnJSpwh9miK/xlUvPIqoM7",
      "include_colab_link": true
    },
    "kernelspec": {
      "name": "python3",
      "display_name": "Python 3"
    },
    "language_info": {
      "name": "python"
    }
  },
  "cells": [
    {
      "cell_type": "markdown",
      "metadata": {
        "id": "view-in-github",
        "colab_type": "text"
      },
      "source": [
        "<a href=\"https://colab.research.google.com/github/elliotpaquette/elliotpaquette/blob/master/sDANA_simulations.ipynb\" target=\"_parent\"><img src=\"https://colab.research.google.com/assets/colab-badge.svg\" alt=\"Open In Colab\"/></a>"
      ]
    },
    {
      "cell_type": "markdown",
      "metadata": {
        "id": "A6c_qbLo46_-"
      },
      "source": [
        "This is companion code for the NeurIPS submission: \"Dynamics of stochastic momentum methods on large--scale quadratic models.\"  Figures in the paper were generated using this code (in fact an earlier version).  (We have omitted stochastic heavy ball and routines for generating integrals against Marchenko--Pastur, but SGD, dana and Volterra losses can all be generated using this file.)"
      ]
    },
    {
      "cell_type": "code",
      "metadata": {
        "id": "X-bFj-sMZAo2"
      },
      "source": [
        "import numpy as np\n",
        "import scipy as sp\n",
        "from scipy.sparse import linalg as splinalg\n",
        "from scipy.signal import fftconvolve as fftconvolve\n",
        "from scipy.integrate import quad\n",
        "from scipy.integrate import solve_ivp\n",
        "\n",
        "import tensorflow as tf\n",
        "from sklearn.preprocessing import StandardScaler\n",
        "\n",
        "import matplotlib.pyplot as plt"
      ],
      "execution_count": 115,
      "outputs": []
    },
    {
      "cell_type": "code",
      "metadata": {
        "id": "2LBzAs3KZRcX"
      },
      "source": [
        "def dana_lsq( A, b, t_max, theta=4, gamma_1=-1, gamma_2=-1,oversample=1):\n",
        "  \"\"\"Runs the sDANA algorithm to solve the least squares problem Ax=b.\n",
        "  The special case of gamma_1 =0 recovers SGD.\n",
        "\n",
        "  Parameters\n",
        "  ----------\n",
        "  A : matrix\n",
        "      The data matrix (2d-array) of some shape (n,d)\n",
        "  b : vector\n",
        "      The target vector\n",
        "  t_max : float\n",
        "      The number of epochs (algorithm will run t_max * n steps)\n",
        "  theta : float, optional\n",
        "      The momentum paramter, defaults to 4\n",
        "  gamma_1: float, optional\n",
        "      (Momentum) stepsize parameter, defaults to gamma_2/4\n",
        "  gamma_2: float, optional\n",
        "      (Additional gradient) stepsize parameter, defaults to n/||A||**2, with\n",
        "      Frobenius norm ||A||.\n",
        "  oversample: int, optional\n",
        "      return additional losses, by a multiple of oversample \n",
        "      (note integer division is performed, so every n//oversample is returned)\n",
        "\n",
        "  Returns\n",
        "  -------\n",
        "  t_grid: numpy.array(float)\n",
        "      the best fit vector x\n",
        "  losses : numpy.array(float)\n",
        "      an array of floats that are the losses of the least squares problem, one\n",
        "      per epoch\n",
        "  \"\"\"\n",
        "\n",
        "  n, d = A.shape\n",
        "\n",
        "  if gamma_2==-1:\n",
        "    gamma_2 = n/np.linalg.norm(A)**2\n",
        "  if gamma_1==-1:\n",
        "    gamma_1 = gamma_2/4\n",
        "\n",
        "  steps = int(n * t_max)\n",
        "\n",
        "  def loss(x):\n",
        "    z = A@x - b\n",
        "    return (1/2)*np.sum( z*z)\n",
        "  \n",
        "  losses = []\n",
        "\n",
        "  x = np.random.randn(d)/ (np.sqrt(2*n))\n",
        "  y = np.zeros(d)\n",
        "\n",
        "  for t in range(steps):\n",
        "    i = np.random.randint(0,n, size =1)[0]\n",
        "    grad_i = A[i] * (A[i].dot(x) - b[i])\n",
        "    if t % (n//oversample) == 0:\n",
        "      losses.append(loss(x))\n",
        "    y = (1- theta/(n+t))*y + grad_i * (gamma_1/n)\n",
        "    x = x - y - gamma_2 * grad_i\n",
        "  return x, np.array(losses)"
      ],
      "execution_count": 116,
      "outputs": []
    },
    {
      "cell_type": "code",
      "metadata": {
        "id": "Q8k9u-3faxla"
      },
      "source": [
        "def picard_volterra(f, K, t_max, n_grid):\n",
        "  \"\"\"Runs Picard iteration to approximate a convolution Volterra equation\n",
        "  sol = f + K*sol, where * denotes convolution, \n",
        "  and where K is assumed to be positive.\n",
        "\n",
        "  Parameters\n",
        "  ----------\n",
        "  f : callable\n",
        "      Forcing function that takes as input a vector of times to be evaluated\n",
        "  K : callable\n",
        "      Convolution kernel that takes as input a vector of times to be evaluated\n",
        "  t_max : float\n",
        "      The number of epochs \n",
        "  n_grid : int\n",
        "      The number of grid points\n",
        "\n",
        "  Returns\n",
        "  -------\n",
        "  t_grid: numpy.array(float)\n",
        "      the time steps used, which will discretize (0,t_max) into n_grid points\n",
        "  sol: numpy.array(float)\n",
        "      the values of the solution to the convolution Volterra equation at the time steps\n",
        "  \"\"\"\n",
        "\n",
        "  t_grid = np.linspace(0, t_max, n_grid)\n",
        "  delta = t_max/n_grid\n",
        "  I = delta*K(t_grid)\n",
        "  F = f(t_grid)\n",
        "\n",
        "  for i in range(n_grid):\n",
        "    if I[i] > 0.001 and (i+1) < n_grid:\n",
        "      if i% 10 == 0:\n",
        "        print(\"Using quadrature to refine kernel with t=\"+str(t_grid[i])+\" as kernel output=\"+str(I[i]))\n",
        "      I[i] = quad(K, t_grid[i], t_grid[i+1])[0]\n",
        "  \n",
        "  knorm = np.sum(I)\n",
        "  print( \"kernel norm computed as \"+str(knorm))\n",
        "\n",
        "  loops = np.int(np.ceil(np.log(0.0001)/np.log(knorm)))\n",
        "  print( \"will use \"+str(loops)+\" iterations\")\n",
        "\n",
        "  sol = np.zeros(n_grid)\n",
        "  for i in range(loops):\n",
        "    sol = F + fftconvolve(sol, I, mode=\"full\")[0:n_grid]\n",
        "  return t_grid, sol\n",
        "  "
      ],
      "execution_count": 117,
      "outputs": []
    },
    {
      "cell_type": "code",
      "metadata": {
        "id": "AA1t2cQqdwOQ"
      },
      "source": [
        "def empirical_volterra(eiglist, t_max, n_grid, R, R_tilde, theta=4, gamma_1=-1, gamma_2=-1):\n",
        "  \"\"\"Generates the Volterra model for sDANA for a list of eigenvalues eiglist\n",
        "\n",
        "  Parameters\n",
        "  ----------\n",
        "  eiglist : vector\n",
        "      The eigenvalues of Gauss--Newton matrix of the least squares problem,\n",
        "      n is the number of eigenvalues.\n",
        "  t_max : float\n",
        "      The number of epochs (algorithm will run t_max * n steps)\n",
        "  n_grid : int\n",
        "      The number of grid points\n",
        "  R : float\n",
        "      The signal parameter.\n",
        "  R_tilde: float\n",
        "      The noise parameter.\n",
        "  theta : float, optional\n",
        "      The momentum paramter, defaults to 4\n",
        "  gamma_1: float, optional\n",
        "      (Momentum) stepsize parameter, defaults to gamma_2/4\n",
        "  gamma_2: float, optional\n",
        "      (Additional gradient) stepsize parameter, defaults to n/||A||**2, with\n",
        "      Frobenius norm ||A|| -- Frobenius squared of ||A|| is also the sum of \n",
        "      the eigenvalues\n",
        "\n",
        "  Returns\n",
        "  -------\n",
        "  t_grid: numpy.array(float)\n",
        "      the time steps used, which will discretize (0,t_max) into n_grid points\n",
        "  sol: numpy.array(float)\n",
        "      the values of the solution to the convolution Volterra equation at the time steps\n",
        "  \"\"\"\n",
        "  lmin = np.min(eiglist)\n",
        "  lmax = np.max(eiglist)\n",
        "  n_eig= len(eiglist)\n",
        "\n",
        "  if gamma_2==-1:\n",
        "    gamma_2 = len(eiglist)/np.sum(eiglist)\n",
        "  if gamma_1==-1:\n",
        "    gamma_1 = gamma_2/4\n",
        "\n",
        "  def K(t):\n",
        "    def Ktwo(x,t):\n",
        "      if np.isclose(x,0):\n",
        "        return t*0\n",
        "      omega = 4 * gamma_1 - gamma_2**2 * x + 0j\n",
        "      angle = np.complex256(np.sqrt(x * omega) * t)\n",
        "      return np.where((np.abs(np.imag(angle)) < 10)*\n",
        "                      ( gamma_2*t*x < 10),\n",
        "                      x * np.exp( -gamma_2*t*x ) * (\n",
        "                      gamma_1**2 * x * t**2 * np.sinc(angle/(2*np.pi))**2+\n",
        "                      (4*gamma_1 - omega) * np.cos( angle ) +\n",
        "                      (omega - 2*gamma_1)*gamma_2 * x * t * np.sinc(angle/(np.pi))\n",
        "                      ), \n",
        "                      0\n",
        "      )\n",
        "    ktally = 0\n",
        "    return np.sum(np.array([np.real(Ktwo(eig,t)) for eig in eiglist]),axis=0)/n_eig\n",
        "\n",
        "\n",
        "  def dXdt(X,eig,t):\n",
        "    J,dJ,ddJ = X\n",
        "    A = (0\n",
        "        +(4*theta + 4*theta**2)/((1+t)**3)\n",
        "        -(4*gamma_2 * eig * theta)/( (1+t)**2 ) \n",
        "        +(4*gamma_1*eig*theta)/(1+t)\n",
        "        -(4*gamma_1*gamma_2*eig**2)\n",
        "    )\n",
        "    B = (0\n",
        "         -(5*theta+2*theta**2)/((1+t)**2)\n",
        "         +4*gamma_2*eig*theta/(1+t)\n",
        "         -4*gamma_1*eig\n",
        "         -2*gamma_2**2 * eig ** 2\n",
        "         )\n",
        "    C = 3*theta/(1+t) - 3*gamma_2*eig\n",
        "    return [dJ, ddJ,A*J + B*dJ + C*ddJ]\n",
        "\n",
        "  def forcing(times):\n",
        "    tmin = min(times)\n",
        "    tmax = max(times)\n",
        "    ftally = np.zeros_like(times)\n",
        "    for eig in eiglist:\n",
        "      diffeq = lambda t,y : dXdt(y,eig,t)\n",
        "      ICs = (R*eig + R_tilde)*np.array([1,(2*theta-2*gamma_2*eig),(2*theta-2*gamma_2*eig)**2-2*gamma_1*eig-2*theta ])\n",
        "      sol = solve_ivp( diffeq, [tmin,tmax], ICs, t_eval=times)\n",
        "      ftally += sol.y[0]\n",
        "    return ftally * np.power( (1+times), -theta) * 0.5 / n_eig\n",
        "\n",
        "  t_grid, sol = picard_volterra(forcing,K,t_max,n_grid)\n",
        "\n",
        "  return t_grid, sol*np.power( (1+t_grid), -theta)\n",
        "\n"
      ],
      "execution_count": 118,
      "outputs": []
    },
    {
      "cell_type": "markdown",
      "metadata": {
        "id": "pDyKOuEkrT4u"
      },
      "source": [
        "Demonstrate the Volterra equation with empirical eigenvalues vs sDANA on Gaussian data.  "
      ]
    },
    {
      "cell_type": "code",
      "metadata": {
        "colab": {
          "base_uri": "https://localhost:8080/",
          "height": 418
        },
        "id": "h66Gyyl6pzRS",
        "outputId": "cfe3c765-c89d-4e4c-9bf9-33475c0c528e"
      },
      "source": [
        "n=500\n",
        "d=1000\n",
        "A = np.random.randn(n,d)\n",
        "b = np.random.randn(n)\n",
        "invnorms=sp.sparse.diags(1/np.linalg.norm(A,axis=1))\n",
        "A = invnorms@A\n",
        "b = invnorms@b*0.1\n",
        "#The resulting R-tilde value will be the norm-squared of b, \n",
        "#which in this configuration is given by (n/d)*(0.01)/2\n",
        "\n",
        "t_max = 50\n",
        "\n",
        "exp_DANA = dana_lsq(A,b,t_max)[1]\n",
        "\n",
        "plt.yscale('log')\n",
        "plt.plot(np.linspace(0,t_max,t_max), exp_DANA, label=\"DANA\")\n",
        "\n",
        "n_grid_MP = 500\n",
        "ratio = np.float(d)/np.float(n)\n",
        "n_grid = 1000\n",
        "eigs = np.linalg.eigvalsh(A@A.transpose())\n",
        "t_grid, v_emp = empirical_volterra(eigs,t_max,n_grid,0.50,((n/d)*0.01)/2)\n",
        "#The value of R is given by 0.5, which is due to initialization\n",
        "plt.plot(t_grid, v_emp, label=\"Empirical Volterra\")\n",
        "\n"
      ],
      "execution_count": 124,
      "outputs": [
        {
          "output_type": "stream",
          "text": [
            "Using quadrature to refine kernel with t=0.0 as kernel output=0.07478783417958436147\n",
            "Using quadrature to refine kernel with t=0.5005005005005005 as kernel output=0.018557051723427243303\n",
            "Using quadrature to refine kernel with t=1.001001001001001 as kernel output=0.0065926804612851188836\n",
            "Using quadrature to refine kernel with t=1.5015015015015016 as kernel output=0.0030886310449407796137\n",
            "Using quadrature to refine kernel with t=2.002002002002002 as kernel output=0.0017307167359426997051\n",
            "Using quadrature to refine kernel with t=2.5025025025025025 as kernel output=0.0010843500221885167293\n",
            "kernel norm computed as 0.62531044371895912925\n",
            "will use 20 iterations\n"
          ],
          "name": "stdout"
        },
        {
          "output_type": "execute_result",
          "data": {
            "text/plain": [
              "[<matplotlib.lines.Line2D at 0x7fba5c811190>]"
            ]
          },
          "metadata": {
            "tags": []
          },
          "execution_count": 124
        },
        {
          "output_type": "display_data",
          "data": {
            "image/png": "[encoded data removed]",
            "text/plain": [
              "<Figure size 432x288 with 1 Axes>"
            ]
          },
          "metadata": {
            "tags": [],
            "needs_background": "light"
          }
        }
      ]
    },
    {
      "cell_type": "markdown",
      "metadata": {
        "id": "1fySAH3prv8w"
      },
      "source": [
        "Demonstrate the Volterra equation with empirical eigenvalues vs sDANA on MNIST.  The tendency for the Volterra equation to underestimate the true loss for small values of time is normal.  It is in part of explained from having replaced the true non-convolution Volterra equation with a convolution--Volterra equation, which only holds as time tends to infinity."
      ]
    },
    {
      "cell_type": "code",
      "metadata": {
        "id": "zxQjnU-wrN8B",
        "colab": {
          "base_uri": "https://localhost:8080/",
          "height": 367
        },
        "outputId": "8671ec3d-3be8-4a61-bc26-ff4cf215f8d0"
      },
      "source": [
        "(x_train, y_train), (x_test,y_test) = tf.keras.datasets.mnist.load_data()\n",
        "flat = x_train.reshape(60000,28*28)\n",
        "scaler = StandardScaler().fit(flat)\n",
        "rescaled_flat =scaler.transform(flat)\n",
        "firstdigits = y_train\n",
        "\n",
        "A = rescaled_flat[0:1000]\n",
        "b = y_train[0:1000]\n",
        "invnorms=sp.sparse.diags(1/np.linalg.norm(A,axis=1))\n",
        "A = invnorms@A\n",
        "b = invnorms@b\n",
        "\n",
        "t_max = 100\n",
        "\n",
        "exp_DANA = dana_lsq(A,b,t_max)[1]\n",
        "\n",
        "plt.yscale('log')\n",
        "plt.plot(np.linspace(0,t_max,t_max), exp_DANA, label=\"DANA\")\n",
        "\n",
        "n_grid_MP = 500\n",
        "n_grid = 1000\n",
        "eigs = np.linalg.eigvalsh(A@A.transpose())\n",
        "#The Signal/Noise ratio seems empirically to be about 5-to-1\n",
        "t_grid, v_emp = empirical_volterra(eigs,t_max,n_grid,5.0,1.0)\n",
        "#Empirically align the Volterra vs experiment.  \n",
        "plt.plot(t_grid, v_emp*exp_DANA[0]/v_emp[0], label=\"Empirical Volterra\")\n",
        "\n"
      ],
      "execution_count": 120,
      "outputs": [
        {
          "output_type": "stream",
          "text": [
            "Using quadrature to refine kernel with t=0.0 as kernel output=2.5374336150524616825\n",
            "Using quadrature to refine kernel with t=1.001001001001001 as kernel output=0.0033007801990324557607\n",
            "Using quadrature to refine kernel with t=2.002002002002002 as kernel output=0.0012837635811139476016\n",
            "kernel norm computed as 0.5695758920279302068\n",
            "will use 17 iterations\n"
          ],
          "name": "stdout"
        },
        {
          "output_type": "execute_result",
          "data": {
            "text/plain": [
              "[<matplotlib.lines.Line2D at 0x7fba5df260d0>]"
            ]
          },
          "metadata": {
            "tags": []
          },
          "execution_count": 120
        },
        {
          "output_type": "display_data",
          "data": {
            "image/png": "[encoded data removed]",
            "text/plain": [
              "<Figure size 432x288 with 1 Axes>"
            ]
          },
          "metadata": {
            "tags": [],
            "needs_background": "light"
          }
        }
      ]
    },
    {
      "cell_type": "markdown",
      "metadata": {
        "id": "6anukTqUl2BV"
      },
      "source": [
        "In the following, we double up the pictures from MNIST, instead showing pairs of adjacent images from the dataset.  This allows us to double the length of the feature vector.  We still only attempt to explain the first digit (i.e. we make the target the class vector of only the first)"
      ]
    },
    {
      "cell_type": "code",
      "metadata": {
        "colab": {
          "base_uri": "https://localhost:8080/",
          "height": 384
        },
        "id": "GxFlE8FsY28O",
        "outputId": "7c72d712-a6ea-4964-e445-7e78ca4487a3"
      },
      "source": [
        "(x_train, y_train), (x_test,y_test) = tf.keras.datasets.mnist.load_data()\n",
        "flat = x_train.reshape(60000,28*28)\n",
        "flat = flat.reshape(30000,28*28*2)\n",
        "scaler = StandardScaler().fit(flat)\n",
        "rescaled_flat =scaler.transform(flat)\n",
        "firstdigits = y_train[0:2000:2]\n",
        "\n",
        "A = rescaled_flat[0:1000]\n",
        "b = y_train[0:2000:2]\n",
        "invnorms=sp.sparse.diags(1/np.linalg.norm(A,axis=1))\n",
        "A = invnorms@A\n",
        "b = invnorms@b\n",
        "\n",
        "#Anorm= np.linalg.norm(A)**2\n",
        "\n",
        "t_max = 100\n",
        "\n",
        "exp_DANA = dana_lsq(A,b,t_max)[1]\n",
        "\n",
        "plt.yscale('log')\n",
        "plt.plot(np.linspace(0,t_max,t_max), exp_DANA, label=\"DANA\")\n",
        "\n",
        "n_grid_MP = 500\n",
        "n_grid = 1000\n",
        "eigs = np.linalg.eigvalsh(A@A.transpose())\n",
        "t_grid, v_emp = empirical_volterra(eigs,t_max,n_grid,5.0,1.0)\n",
        "plt.plot(t_grid, v_emp*exp_DANA[0]/v_emp[0], label=\"Empirical Volterra\")\n",
        "\n"
      ],
      "execution_count": 121,
      "outputs": [
        {
          "output_type": "stream",
          "text": [
            "Using quadrature to refine kernel with t=0.0 as kernel output=1.2919166733003694485\n",
            "Using quadrature to refine kernel with t=1.001001001001001 as kernel output=0.0050250823619738156534\n",
            "Using quadrature to refine kernel with t=2.002002002002002 as kernel output=0.0019343581463625907125\n",
            "Using quadrature to refine kernel with t=3.0030030030030033 as kernel output=0.0011230363345241163145\n",
            "kernel norm computed as 0.60864308473077023605\n",
            "will use 19 iterations\n"
          ],
          "name": "stdout"
        },
        {
          "output_type": "execute_result",
          "data": {
            "text/plain": [
              "[<matplotlib.lines.Line2D at 0x7fba5f9152d0>]"
            ]
          },
          "metadata": {
            "tags": []
          },
          "execution_count": 121
        },
        {
          "output_type": "display_data",
          "data": {
            "image/png": "[encoded data removed]",
            "text/plain": [
              "<Figure size 432x288 with 1 Axes>"
            ]
          },
          "metadata": {
            "tags": [],
            "needs_background": "light"
          }
        }
      ]
    },
    {
      "cell_type": "markdown",
      "metadata": {
        "id": "4s024D5SpQe2"
      },
      "source": [
        "Full MNIST run.  With all 60000 images, the loss that can be attained is much less, and not even a full pass over the dataset is necessary. We increase the sampling frequency to 100/epoch.  "
      ]
    },
    {
      "cell_type": "code",
      "metadata": {
        "colab": {
          "base_uri": "https://localhost:8080/",
          "height": 282
        },
        "id": "xLj5gpGqpS43",
        "outputId": "592118aa-6106-4d57-f287-48c79798dd3a"
      },
      "source": [
        "(x_train, y_train), (x_test,y_test) = tf.keras.datasets.mnist.load_data()\n",
        "flat = x_train.reshape(60000,28*28)\n",
        "scaler = StandardScaler().fit(flat)\n",
        "rescaled_flat =scaler.transform(flat)\n",
        "\n",
        "A = rescaled_flat\n",
        "b = y_train/100\n",
        "invnorms=sp.sparse.diags(1/np.linalg.norm(A,axis=1))\n",
        "A = invnorms@A\n",
        "b = invnorms@b\n",
        "\n",
        "#Anorm= np.linalg.norm(A)**2\n",
        "\n",
        "t_max = 3\n",
        "\n",
        "exp_DANA = dana_lsq(A,b,t_max, oversample=100)[1]\n",
        "\n",
        "plt.yscale('log')\n",
        "plt.plot(np.linspace(0,t_max,t_max*100), exp_DANA, label=\"DANA\")\n",
        "\n",
        "#n_grid_MP = 500\n",
        "#n_grid = 1000\n",
        "#eigs = np.linalg.eigvalsh(A@A.transpose())\n",
        "#t_grid, v_emp = empirical_volterra(eigs,t_max,n_grid,5.0,1.0)\n",
        "#plt.plot(t_grid, v_emp*exp_DANA[0]/v_emp[0], label=\"Empirical Volterra\")\n",
        "\n"
      ],
      "execution_count": 122,
      "outputs": [
        {
          "output_type": "execute_result",
          "data": {
            "text/plain": [
              "[<matplotlib.lines.Line2D at 0x7fba5cac7410>]"
            ]
          },
          "metadata": {
            "tags": []
          },
          "execution_count": 122
        },
        {
          "output_type": "display_data",
          "data": {
            "image/png": "[encoded data removed]",
            "text/plain": [
              "<Figure size 432x288 with 1 Axes>"
            ]
          },
          "metadata": {
            "tags": [],
            "needs_background": "light"
          }
        }
      ]
    }
  ]
}