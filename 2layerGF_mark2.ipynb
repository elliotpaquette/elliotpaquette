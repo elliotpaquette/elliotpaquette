{
  "nbformat": 4,
  "nbformat_minor": 0,
  "metadata": {
    "colab": {
      "provenance": [],
      "collapsed_sections": [],
      "include_colab_link": true
    },
    "kernelspec": {
      "name": "python3",
      "display_name": "Python 3"
    },
    "language_info": {
      "name": "python"
    }
  },
  "cells": [
    {
      "cell_type": "markdown",
      "metadata": {
        "id": "view-in-github",
        "colab_type": "text"
      },
      "source": [
        "<a href=\"https://colab.research.google.com/github/elliotpaquette/elliotpaquette/blob/master/2layerGF_mark2.ipynb\" target=\"_parent\"><img src=\"https://colab.research.google.com/assets/colab-badge.svg\" alt=\"Open In Colab\"/></a>"
      ]
    },
    {
      "cell_type": "markdown",
      "metadata": {
        "id": "UVAE5NBFfoXM"
      },
      "source": [
        "Test theory/experiment match for the loss curve of a simple 2-layer linear neural network with orthogonal data.  This is compared a Marchenko--Pastur case.\n",
        "\n",
        "We start with XW_1W_2.  Gaussian init.  0-target.  Orthogonal data."
      ]
    },
    {
      "cell_type": "code",
      "source": [
        "import numpy as np\n",
        "import pandas\n",
        "import tensorflow as tf\n",
        "from matplotlib import pyplot as plt\n",
        "n1 = 3000\n",
        "d = 3000\n",
        "n = 3000\n",
        "\n",
        "X = tf.eye(n)\n",
        "W1 = tf.random.normal([d,n1])\n",
        "W1 = W1/np.sqrt(n1)\n",
        "W2 = tf.random.normal([n1])/np.sqrt(10*n1)"
      ],
      "metadata": {
        "id": "sMZU89hOjevb"
      },
      "execution_count": 1,
      "outputs": []
    },
    {
      "cell_type": "markdown",
      "metadata": {
        "id": "fkYwB0NIl6n1"
      },
      "source": [
        "Plotting the spectral curve to ensure that they match.  This will output R in the zs array.  It is then compared to theory."
      ]
    },
    {
      "cell_type": "code",
      "source": [
        "xvals=np.linspace(-4.0,6,num=10000)\n",
        "zs = xvals + 0.1j\n",
        "\n",
        "tau = np.sum(W2*W2)\n",
        "ell = float(d)/n1\n",
        "lplus = (1+np.sqrt(ell))**2\n",
        "lminus = (1-np.sqrt(ell))**2\n",
        "\n",
        "w, v = tf.linalg.eigh(W1 @ tf.transpose(W1))\n",
        "\n",
        "zst = tf.convert_to_tensor(zs - tau,dtype=tf.dtypes.complex128)\n",
        "u = tf.einsum('ij,jk,k->i',tf.transpose(v),W1,W2)#  (v@W1)@W2\n",
        "weights = tf.abs(u * u)\n",
        "\n",
        "tf.ones_like(w)\n",
        "\n",
        "Ha = tf.einsum('i,j->ij', zst, tf.ones_like(w,dtype=tf.dtypes.complex128))\n",
        "Hb = tf.einsum('i,j->ij', tf.ones_like(zst,dtype=tf.dtypes.complex128), tf.cast(w,dtype=tf.dtypes.complex128))\n",
        "\n",
        "Hc = tf.pow(Hb-Ha,-1.0)\n",
        "\n",
        "R = tf.einsum('ij,j->i', Hc, tf.cast(weights,dtype=tf.dtypes.complex128)).numpy()"
      ],
      "metadata": {
        "id": "FWccTJ0inSmO"
      },
      "execution_count": 2,
      "outputs": []
    },
    {
      "cell_type": "markdown",
      "source": [
        "Computing u and v and ensuring that they match."
      ],
      "metadata": {
        "id": "DKhnCLonQMym"
      }
    },
    {
      "cell_type": "code",
      "source": [
        "f = lambda z : tau*( -1.0*(z-tau) +1 + ell + np.sqrt( z-tau-lplus)*np.sqrt( z-tau-lminus))/2.0\n",
        "\n",
        "ell = float(d)/n1\n",
        "lplus = (1+np.sqrt(ell))**2\n",
        "lminus = (1-np.sqrt(ell))**2\n",
        "specx = np.linspace(lminus + tau + 0.00001,lplus + tau -0.00001,num=5000)\n",
        "\n",
        "truev = lambda z : tau*(np.sqrt( lplus- z + tau )*np.sqrt( z-tau-lminus))/2.0\n",
        "trueu_sp  = lambda z : z-tau*( -1.0*(z-tau) +1 + ell)/2.0\n",
        "trueu_nonsp = lambda z : z-tau*( -1.0*(z-tau) +1 + ell - np.sqrt( lplus-z+tau)*np.sqrt( lminus-z+tau))/2.0\n",
        "\n",
        "mvals = f(zs)\n",
        "plt.plot(xvals, np.imag(R))\n",
        "plt.plot(xvals, np.imag(mvals))\n",
        "plt.plot(specx, truev(specx))\n",
        "\n",
        "plt.plot(xvals, np.real(R))\n",
        "plt.plot(xvals, np.real(mvals))\n",
        "plt.plot(specx, specx-trueu_sp(specx))\n",
        "outx = xvals[xvals < lminus+tau - 0.001]\n",
        "outu = trueu_nonsp(outx)\n",
        "plt.plot(outx, outx-outu)\n",
        "\n",
        "\n",
        "#sum(np.imag(mvals)*(4-0.001)/np.pi/1000) ##should be r"
      ],
      "metadata": {
        "colab": {
          "base_uri": "https://localhost:8080/",
          "height": 283
        },
        "id": "1muLs5-JQb0q",
        "outputId": "83b04554-ce79-4d28-8d64-8e7f8bb6c9da"
      },
      "execution_count": 3,
      "outputs": [
        {
          "output_type": "execute_result",
          "data": {
            "text/plain": [
              "[<matplotlib.lines.Line2D at 0x7f0dd66e3150>]"
            ]
          },
          "metadata": {},
          "execution_count": 3
        },
        {
          "output_type": "display_data",
          "data": {
            "text/plain": [
              "<Figure size 432x288 with 1 Axes>"
            ],
            "image/png": "[encoded data removed]"
          },
          "metadata": {
            "needs_background": "light"
          }
        }
      ]
    },
    {
      "cell_type": "markdown",
      "source": [
        "In the cell below, we'll generate the loss for the Marchenko-Pastur case.  Here we simply test the number of steps.  We can in the future remove the loop."
      ],
      "metadata": {
        "id": "41qsSZabkm-t"
      }
    },
    {
      "cell_type": "code",
      "source": [
        "def picard_loss_2ll(specx, specu, specv, outx, outu, t_max, n_grid, steps=3):\n",
        "  \"\"\"Runs Picard iteration to approximate the loss.\n",
        "\n",
        "  Parameters\n",
        "  ----------\n",
        "  specx : Tensor\n",
        "      x-values inside the continuous spectra on which to evaluate\n",
        "  specu : Tensor\n",
        "      values of the u-part (real) of the spectral density inside the continuous spectra\n",
        "  specv : Tensor\n",
        "      values of the v-part (imaginary) of the spectral density inside the continuous spectra\n",
        "  outx : Tensor\n",
        "      x-values below the spectral window\n",
        "  outu : Tensor\n",
        "      values of the u-function (z-R) \n",
        "  t_max : float\n",
        "      The number of epochs \n",
        "  n_grid : int\n",
        "      The number of grid points\n",
        "  steps : int\n",
        "      The number of iterations to run\n",
        "\n",
        "  Returns\n",
        "  -------\n",
        "  t_grid: numpy.array(float)\n",
        "      the time steps used, which will discretize (0,t_max) into n_grid points\n",
        "  sol: numpy.array(float)\n",
        "      the values of the solution to the loss\n",
        "  \"\"\"\n",
        "\n",
        "  t_grid = tf.linspace(0.0, t_max, n_grid)\n",
        "  t_grid = tf.cast(t_grid, dtype=tf.float64)\n",
        "\n",
        "#  danger =  tf.reduce_max(I).numpy() \n",
        "#  if danger > 0.001:\n",
        "#    print(\"Danger Will Robinson.  You may have numerical accuracy problems with this bin size. Increase numer of grid points. Your kernel bin maximum is \" + str(danger))\n",
        "      \n",
        "  \n",
        "  #tf.reduce_sum()\n",
        "  #knorm = tf.reduce_sum(I).numpy()\n",
        "  #print( \"kernel norm computed as \"+str(knorm))\n",
        "\n",
        "  loops = steps #int(np.ceil(np.log(0.0001)/np.log(knorm)))\n",
        "  print( \"will use \"+str(loops)+\" iterations\")\n",
        "\n",
        "  sol = tf.ones_like(t_grid,dtype=tf.float64)\n",
        "  Dt = t_max/n_grid\n",
        "  specDx = (specx[1]-specx[0]).numpy()\n",
        "  outDx =(outx[1]-outx[0]).numpy()\n",
        "  #init = specDx*tf.reduce_sum(-1.0*v/( (u)**2 + v**2 ))/(6.283185)\n",
        "\n",
        "  #sol will represent the antiderivative of L.\n",
        "  sol = tf.zeros_like(t_grid,dtype=tf.float64)\n",
        "\n",
        "  for i in range(loops):\n",
        "    #Uncomment this to display an iterate\n",
        "    #print( \"norm of iterate = {}\".format(tf.linalg.norm(sol)))\n",
        "    #generate the reciprocal of q\n",
        "    invq = tf.math.exp(tf.math.cumsum(-4.0*sol*Dt))\n",
        "    #this carries e^{2tx}/q(t) as an outer product (x,t), for the spectral x\n",
        "    speceigtimes = tf.tensordot(2.0*specx,t_grid,axes=0)\n",
        "    speceigtimes = tf.einsum('ij,j->ij', tf.math.exp(speceigtimes),invq)\n",
        "    speceigtimes_twou = tf.einsum('i,ij->ij', 2*Dt*specu,speceigtimes)\n",
        "    speceigtimes_twov = tf.einsum('i,ij->ij', 2*Dt*specv,speceigtimes)\n",
        "    spectwoH_real = tf.math.cumsum(speceigtimes_twou,axis=1)\n",
        "    spectwoH_imag = tf.math.cumsum(speceigtimes_twov,axis=1)\n",
        "    #these carry twice the integral in t of H, in the real part and the imaginary part\n",
        "\n",
        "    #this carries u(x)e^{2tx}/q(t) as an outer product (x,t), for the non-spectral x\n",
        "    outeigtimes = tf.tensordot(2.0*outx,t_grid,axes=0)\n",
        "    outeigtimes = tf.einsum('i,ij,j->ij', 2*Dt*outu, tf.math.exp(outeigtimes),invq)\n",
        "    outwoH = tf.math.cumsum(outeigtimes,axis=1)\n",
        "    #this carries twice the integral in t of H, outside the continuous spectrum\n",
        "    \n",
        "    sol = (1.0/6.28315)*specDx*tf.reduce_sum( tf.math.atan2(spectwoH_imag,1+spectwoH_real), axis=0)\n",
        "    sol += 1.000*outDx*tf.math.count_nonzero( outwoH < -1, dtype=tf.float64, axis=0)\n",
        "  return t_grid, sol"
      ],
      "metadata": {
        "id": "JK_ZpuyLhVin"
      },
      "execution_count": 4,
      "outputs": []
    },
    {
      "cell_type": "code",
      "source": [
        "def picard_loss_2ll_quad(specx, specu, specv, specxweights, t_max, n_grid, steps=3):\n",
        "  \"\"\"Runs Picard iteration to approximate the loss.\n",
        "\n",
        "  Parameters\n",
        "  ----------\n",
        "  specx : Tensor\n",
        "      x-values inside the continuous spectra on which to evaluate\n",
        "  specu : Tensor\n",
        "      values of the u-part (real) of the spectral density inside the continuous spectra\n",
        "  specv : Tensor\n",
        "      values of the v-part (imaginary) of the spectral density inside the continuous spectra\n",
        "  specxweights : Tensor\n",
        "      quadrature weights at the specx values\n",
        "  t_max : float\n",
        "      The number of epochs \n",
        "  n_grid : int\n",
        "      The number of grid points\n",
        "  steps : int\n",
        "      The number of iterations to run\n",
        "\n",
        "  Returns\n",
        "  -------\n",
        "  t_grid: numpy.array(float)\n",
        "      the time steps used, which will discretize (0,t_max) into n_grid points\n",
        "  sol: numpy.array(float)\n",
        "      the values of the solution to the loss\n",
        "  \"\"\"\n",
        "\n",
        "  t_grid = tf.linspace(0.0, t_max, n_grid)\n",
        "  t_grid = tf.cast(t_grid, dtype=tf.float64)\n",
        "\n",
        "#  danger =  tf.reduce_max(I).numpy() \n",
        "#  if danger > 0.001:\n",
        "#    print(\"Danger Will Robinson.  You may have numerical accuracy problems with this bin size. Increase numer of grid points. Your kernel bin maximum is \" + str(danger))\n",
        "      \n",
        "  \n",
        "  #tf.reduce_sum()\n",
        "  #knorm = tf.reduce_sum(I).numpy()\n",
        "  #print( \"kernel norm computed as \"+str(knorm))\n",
        "\n",
        "  loops = steps #int(np.ceil(np.log(0.0001)/np.log(knorm)))\n",
        "  print( \"will use \"+str(loops)+\" iterations\")\n",
        "\n",
        "  sol = tf.ones_like(t_grid,dtype=tf.float64)\n",
        "  Dt = t_max/n_grid\n",
        "  #specDx = (specx[1]-specx[0]).numpy()\n",
        "  #outDx =(outx[1]-outx[0]).numpy()\n",
        "  #init = specDx*tf.reduce_sum(-1.0*v/( (u)**2 + v**2 ))/(6.283185)\n",
        "\n",
        "  #sol will represent the antiderivative of L.\n",
        "  sol = tf.zeros_like(t_grid,dtype=tf.float64)\n",
        "\n",
        "  for i in range(loops):\n",
        "    #Uncomment this to display an iterate\n",
        "    #print( \"norm of iterate = {}\".format(tf.linalg.norm(sol)))\n",
        "    #generate the reciprocal of q\n",
        "    invq = tf.math.exp(tf.math.cumsum(-4.0*sol*Dt))\n",
        "    #this carries e^{2tx}/q(t) as an outer product (x,t), for the spectral x\n",
        "    speceigtimes = tf.tensordot(2.0*specx,t_grid,axes=0)\n",
        "    speceigtimes = tf.einsum('ij,j->ij', tf.math.exp(speceigtimes),invq)\n",
        "    speceigtimes_twou = tf.einsum('i,ij->ij', 2*Dt*specu,speceigtimes)\n",
        "    speceigtimes_twov = tf.einsum('i,ij->ij', 2*Dt*specv,speceigtimes)\n",
        "    spectwoH_real = tf.math.cumsum(speceigtimes_twou,axis=1)\n",
        "    spectwoH_imag = tf.math.cumsum(speceigtimes_twov,axis=1)\n",
        "    #these carry twice the integral in t of H, in the real part and the imaginary part\n",
        "\n",
        "    #this carries u(x)e^{2tx}/q(t) as an outer product (x,t), for the non-spectral x\n",
        "    #outeigtimes = tf.tensordot(2.0*outx,t_grid,axes=0)\n",
        "    #outeigtimes = tf.einsum('i,ij,j->ij', 2*Dt*outu, tf.math.exp(outeigtimes),invq)\n",
        "    #outwoH = tf.math.cumsum(outeigtimes,axis=1)\n",
        "    #this carries twice the integral in t of H, outside the continuous spectrum\n",
        "    \n",
        "    sol = (1.0/6.28315)*tf.einsum('i,ij->j', specxweights, tf.math.atan2(spectwoH_imag,1+spectwoH_real))\n",
        "    #sol = (1.0/6.28315)*specDx*tf.reduce_sum( tf.math.atan2(spectwoH_imag,1+spectwoH_real), axis=0)\n",
        "    #sol += 1.000*outDx*tf.math.count_nonzero( outwoH < -1, dtype=tf.float64, axis=0)\n",
        "  return t_grid, sol"
      ],
      "metadata": {
        "id": "jn0HNvqyhcLG"
      },
      "execution_count": 5,
      "outputs": []
    },
    {
      "cell_type": "code",
      "source": [
        "t_max = 2.0\n",
        "n_grid = 1000\n",
        "steps=10\n",
        "\n",
        "\n",
        "\n",
        "specv = truev(specx)\n",
        "specu = trueu_sp(specx)\n",
        "\n",
        "tfspecx = tf.constant(specx)\n",
        "tfspecv = truev(tfspecx)\n",
        "tfspecu = trueu_sp(tfspecx)\n",
        "\n",
        "tfoutx = tf.constant(outx)\n",
        "tfoutu = tf.constant(outu)\n",
        "\n",
        "\n",
        "tsa, lsa = picard_loss_2ll(tfspecx, tfspecu, tfspecv, \n",
        "                                        tfoutx, tfoutu,\n",
        "                                        t_max, n_grid, steps=steps)\n",
        "#ts =ts[1:]\n",
        "#ls = (ls[1:]-ls[:-1])*t_max/n_grid\n",
        "\n",
        "#totalsteps = 10\n",
        "#els = []\n",
        "#for j in range(1,totalsteps):\n",
        "#  ts, ls = picard_loss_2ll(specx, specu, specv, t_max, n_grid, steps=j)\n",
        "\n",
        "#els.append(np.copy(ls.numpy()))\n"
      ],
      "metadata": {
        "colab": {
          "base_uri": "https://localhost:8080/"
        },
        "outputId": "6fd4ff4b-d371-4868-c14b-5363fc43f8c4",
        "id": "n2YrsIhYtZd_"
      },
      "execution_count": 6,
      "outputs": [
        {
          "output_type": "stream",
          "name": "stdout",
          "text": [
            "will use 10 iterations\n"
          ]
        }
      ]
    },
    {
      "cell_type": "code",
      "source": [
        "t_max = 2.0\n",
        "n_grid = 1000\n",
        "nx_grid = 20000\n",
        "steps=10\n",
        "\n",
        "\n",
        "ell = float(d)/n1\n",
        "lplus = (1+np.sqrt(ell))**2\n",
        "lminus = (1-np.sqrt(ell))**2\n",
        "#specx = np.linspace(lminus + tau + 0.00001,lplus + tau -0.00001,num=1000)\n",
        "specx = np.cos(np.linspace(0, np.pi,num=nx_grid)+0.5/nx_grid)*(lplus-lminus)/2.0 + (lminus+lplus)/2.0 + tau\n",
        "specxweights =np.sin(np.linspace(0, np.pi,num=nx_grid)+0.5/nx_grid)*(lplus-lminus)/2.0*np.pi/nx_grid\n",
        "\n",
        "specv = truev(specx)\n",
        "specu = trueu_sp(specx)\n",
        "\n",
        "tfspecx = tf.constant(specx)\n",
        "tfspecv = truev(tfspecx)\n",
        "tfspecu = trueu_sp(tfspecx)\n",
        "tfspecxweights = tf.constant(specxweights)\n",
        "\n",
        "#tfoutx = tf.constant(outx)\n",
        "#tfoutu = tf.constant(outu)\n",
        "\n",
        "\n",
        "ts, ls = picard_loss_2ll_quad(tfspecx, tfspecu, tfspecv, tfspecxweights, \n",
        "                                        t_max, n_grid, steps=steps)"
      ],
      "metadata": {
        "colab": {
          "base_uri": "https://localhost:8080/"
        },
        "id": "AzMTGQ5IfsAV",
        "outputId": "1a673f9d-802d-4a7c-d4e2-df1496bbe6b6"
      },
      "execution_count": null,
      "outputs": [
        {
          "output_type": "stream",
          "name": "stdout",
          "text": [
            "will use 10 iterations\n"
          ]
        }
      ]
    },
    {
      "cell_type": "markdown",
      "source": [
        "The convergence appears extremely rapid..  We turn to generating the gradient flow loss."
      ],
      "metadata": {
        "id": "64G9eMcPlNNm"
      }
    },
    {
      "cell_type": "code",
      "source": [
        "def tfs_gf_2ll( X, W1, W2, y, t_max, ridge=0.0, \n",
        "               loss= lambda X,W1,W2,y : tf.reduce_sum((tf.einsum('ij,jk,k',X,W1,W2)-y)**2), \n",
        "               batchsize=100, gamma=-1, oversample=10):\n",
        "  \"\"\"Generates gradient flow loss of linear 2-layer network.  Batch provided.\n",
        "\n",
        "  Parameters\n",
        "  ----------\n",
        "  X : data matrix, n x d\n",
        "      The data\n",
        "  W1 : weight matrix, d x n1\n",
        "      The feature matrix\n",
        "  W2 : weight matrix, n1 x 1\n",
        "      The final layer\n",
        "  y : target vector, n x 1\n",
        "      The target    \n",
        "  t_max : float\n",
        "      How long to run gradient flow time\n",
        "  ridge : float, optional\n",
        "      UNUSED The strength of the ridge regularization (per iteration)\n",
        "  loss : vector-input function, optional\n",
        "      The loss to compute at each epoch.  Defaults to the empirical loss.\n",
        "  batchsize : int\n",
        "      The size of the batch, defaults to 100.\n",
        "  gamma: float, optional\n",
        "      (Additional gradient) stepsize parameter, defaults to n/||A||**2, with\n",
        "      Frobenius norm ||A||. Pass 'adaptive' for adaptive scheme.\n",
        "  ridge: float, optional\n",
        "      The ridge parameter to pass.\n",
        "  oversample: int, optional\n",
        "      return additional losses, by a multiple of oversample \n",
        "      (note integer division is performed, so every d//oversample is returned).\n",
        "      Pass 'adaptive' for exponentially spaced samples.\n",
        "  \n",
        "\n",
        "  Returns\n",
        "  -------\n",
        "  W1 : weight matrix, d x n1\n",
        "      The feature matrix\n",
        "  W2 : weight matrix, n1 x 1\n",
        "      The final layer\n",
        "  losses : numpy.array(float)\n",
        "      an array of floats that are the losses of the least squares problem, one\n",
        "      per epoch\n",
        "  times: numpy.array(int)\n",
        "      the iteration counts at which the sgd was sampled\n",
        "  \"\"\"\n",
        "\n",
        "  (n,d) = X.shape\n",
        "  (d,n1) = W1.shape\n",
        "  mb = batchsize\n",
        "  print(\"Working with batch={}, d={}\".format(mb,d))\n",
        "  adaptivesample=False\n",
        "  #TL = lambda x: (1/2)*np.sum( (A@x-b)**2)\n",
        "  \n",
        "  losses = []\n",
        "  times = []\n",
        "\n",
        "  Xb = tf.split(X, n//mb,axis=0)\n",
        "  yb = tf.split(y, n//mb)\n",
        "  H = zip(Xb,yb)\n",
        "\n",
        "  if( gamma == -1):\n",
        "    gamma = 1/tf.linalg.norm(W1)**2\n",
        "  steps = int( t_max/gamma)\n",
        "  print(\"Computed gamma={} and running steps={} iterations\".format(gamma,steps))\n",
        "\n",
        "\n",
        "  #GR = lambda A,x,b,ridge : A * (A.dot(x) - b) + ridge*x\n",
        "  #GR = lambda A,x,b,ridge : A[0] * (tf.tensordot(A,x,axes=[1,0]) - b) + ridge*x\n",
        "  #GR = lambda a,x,b,ridge : gamma*(tf.einsum('ji,jk,k',a,a,x)-tf.einsum('ji,j',a,b)+(ridge*minibatch)*x)\n",
        "\n",
        "\n",
        "  for t in range(steps):\n",
        "    H = zip(Xb,yb)\n",
        "    for (x,yc) in H:\n",
        "      Delta = tf.einsum('ij,jk,k',x,W1,W2) - yc\n",
        "      #XDelta = tf.transpose(x)@Delta\n",
        "      XDelta = tf.einsum('ij,i',x,Delta)\n",
        "      W2 -= gamma*tf.einsum('ij,i',W1,XDelta)# tf.transpose(W1)@XDelta\n",
        "      W1 -= gamma*tf.tensordot(XDelta, W2,axes=0)\n",
        "    \n",
        "    if t % (oversample) == 0:\n",
        "      l = loss(X,W1,W2,y)\n",
        "      tz= t*gamma\n",
        "      #print(\"Loss is currently = {} at time = {}\".format(l,tz))\n",
        "      losses.append(l)\n",
        "      times.append(t*gamma)\n",
        "\n",
        "  return W1,W2, np.array(losses), times"
      ],
      "metadata": {
        "id": "x-7GBhHelnUE"
      },
      "execution_count": null,
      "outputs": []
    },
    {
      "cell_type": "code",
      "source": [
        "n1 = 40*16\n",
        "d = 30*16\n",
        "n = 30*16\n",
        "t_max = 2.0\n",
        "runs = 16\n",
        "\n",
        "lse_runs =[]\n",
        "for i in range(runs):\n",
        "  X = tf.eye(n)\n",
        "  W1 = tf.random.normal([d,n1])\n",
        "  W1 = W1/np.sqrt(n1)\n",
        "  W2 = tf.random.normal([n1])/np.sqrt(10*n1)\n",
        "\n",
        "  Wout1,Wout2, lse, tse = tfs_gf_2ll( X, W1, W2, tf.zeros([n]), t_max, gamma=0.002, ridge=0.0, batchsize=160, oversample=1)\n",
        "  lse_runs.append(np.cumsum(lse)*(tse[1]-tse[0]))\n",
        "\n",
        "plt.plot(tse,np.cumsum(lse)*(tse[1]-tse[0]))\n",
        "plt.plot(ts,ls)\n",
        "#for j in range(totalsteps-2):\n",
        "#  plt.plot(ts,els[j])\n",
        "plt.yscale('log')"
      ],
      "metadata": {
        "id": "W_XrFCKL0yzO"
      },
      "execution_count": null,
      "outputs": []
    },
    {
      "cell_type": "code",
      "source": [
        "for i in range(runs):\n",
        "  plt.plot(tse,lse_runs[i],c=plt.cm.plasma(0.9))\n",
        "plt.plot(ts,ls,c=plt.cm.plasma(0.1))\n",
        "#plt.plot(tsa,lsa,c=plt.cm.plasma(0.1))\n",
        "#for j in range(totalsteps-2):\n",
        "#  plt.plot(ts,els[j])\n",
        "#plt.yscale('log')"
      ],
      "metadata": {
        "id": "UfisfX6nOoo7"
      },
      "execution_count": null,
      "outputs": []
    },
    {
      "cell_type": "code",
      "source": [
        "for i in range(runs):\n",
        "  plt.plot(tse[:-1],np.diff(lse_runs[i])/(tse[1]-tse[0]),c=plt.cm.plasma(0.9))\n",
        "plt.plot(ts[:-1],np.diff(ls)/(ts[1]-ts[0]),c=plt.cm.plasma(0.1))\n",
        "#plt.plot(tsa[:-1],np.diff(lsa)/(tsa[1]-tsa[0]),c=plt.cm.plasma(0.1))\n",
        "plt.yscale('log')"
      ],
      "metadata": {
        "id": "_qE4OjwrE6wv"
      },
      "execution_count": null,
      "outputs": []
    }
  ]
}